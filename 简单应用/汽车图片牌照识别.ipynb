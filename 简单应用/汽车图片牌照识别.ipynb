{
 "cells": [
  {
   "cell_type": "code",
   "execution_count": 4,
   "id": "2ab491c5-cf62-41e1-9570-2d4e50f73656",
   "metadata": {
    "ExecutionIndicator": {
     "show": true
    },
    "execution": {
     "iopub.execute_input": "2023-10-07T12:59:45.860956Z",
     "iopub.status.busy": "2023-10-07T12:59:45.860446Z",
     "iopub.status.idle": "2023-10-07T12:59:45.865055Z",
     "shell.execute_reply": "2023-10-07T12:59:45.864176Z",
     "shell.execute_reply.started": "2023-10-07T12:59:45.860920Z"
    },
    "tags": []
   },
   "outputs": [],
   "source": [
    "from modelscope.pipelines import pipeline\n",
    "from modelscope.utils.constant import Tasks\n",
    "import cv2"
   ]
  },
  {
   "cell_type": "code",
   "execution_count": 7,
   "id": "5d5f482e-e6ab-43fc-a319-5cbebafa29a4",
   "metadata": {
    "ExecutionIndicator": {
     "show": true
    },
    "execution": {
     "iopub.execute_input": "2023-10-07T13:24:56.950192Z",
     "iopub.status.busy": "2023-10-07T13:24:56.949787Z",
     "iopub.status.idle": "2023-10-07T13:25:14.465108Z",
     "shell.execute_reply": "2023-10-07T13:25:14.463840Z",
     "shell.execute_reply.started": "2023-10-07T13:24:56.950172Z"
    },
    "tags": []
   },
   "outputs": [
    {
     "name": "stderr",
     "output_type": "stream",
     "text": [
      "2023-10-07 21:24:57,393 - modelscope - INFO - Model revision not specified, use the latest revision: v0.5\n",
      "2023-10-07 21:24:59,451 - modelscope - INFO - initiate model from /mnt/workspace/.cache/modelscope/damo/cv_resnet18_license-plate-detection_damo\n",
      "2023-10-07 21:24:59,452 - modelscope - INFO - initiate model from location /mnt/workspace/.cache/modelscope/damo/cv_resnet18_license-plate-detection_damo.\n",
      "2023-10-07 21:24:59,454 - modelscope - WARNING - No preprocessor field found in cfg.\n",
      "2023-10-07 21:24:59,455 - modelscope - WARNING - No val key and type key found in preprocessor domain of configuration.json file.\n",
      "2023-10-07 21:24:59,455 - modelscope - WARNING - Cannot find available config to build preprocessor at mode inference, current config: {'model_dir': '/mnt/workspace/.cache/modelscope/damo/cv_resnet18_license-plate-detection_damo'}. trying to build by task and model information.\n",
      "2023-10-07 21:24:59,456 - modelscope - WARNING - Find task: license-plate-detection, model type: None. Insufficient information to build preprocessor, skip building preprocessor\n",
      "2023-10-07 21:24:59,457 - modelscope - INFO - cuda is not available, using cpu instead.\n",
      "2023-10-07 21:24:59,458 - modelscope - INFO - loading model from /mnt/workspace/.cache/modelscope/damo/cv_resnet18_license-plate-detection_damo/pytorch_model.pt\n"
     ]
    },
    {
     "name": "stdout",
     "output_type": "stream",
     "text": [
      "{'polygons': array([[134.74564, 203.69989, 220.9743 , 207.83281, 219.51375, 228.91171,\n",
      "        134.2132 , 225.17249]], dtype=float32), 'text': ['小型汽车']}\n"
     ]
    }
   ],
   "source": [
    "# 给定一张图片，检测出图中车牌的位置并输出车的类型（比如小汽车，挂车，新能源车等）\n",
    "license_plate_detection = pipeline(Tasks.license_plate_detection, model='damo/cv_resnet18_license-plate-detection_damo') \n",
    "plate = license_plate_detection('https://modelscope.oss-cn-beijing.aliyuncs.com/test/images/license_plate_detection.jpg')\n",
    "print(plate)"
   ]
  },
  {
   "cell_type": "code",
   "execution_count": 5,
   "id": "1c244bdb-b022-4b55-9c09-d5f561c76dd3",
   "metadata": {
    "execution": {
     "iopub.execute_input": "2023-10-07T13:00:57.543092Z",
     "iopub.status.busy": "2023-10-07T13:00:57.542600Z",
     "iopub.status.idle": "2023-10-07T13:01:38.860018Z",
     "shell.execute_reply": "2023-10-07T13:01:38.859276Z",
     "shell.execute_reply.started": "2023-10-07T13:00:57.543053Z"
    },
    "tags": []
   },
   "outputs": [
    {
     "name": "stderr",
     "output_type": "stream",
     "text": [
      "2023-10-07 21:00:57,998 - modelscope - INFO - Model revision not specified, use the latest revision: v2.3.0\n",
      "Downloading: 100%|██████████| 1.51k/1.51k [00:00<00:00, 753kB/s]\n",
      "Downloading: 100%|██████████| 100k/100k [00:00<00:00, 13.9MB/s]\n",
      "Downloading: 100%|██████████| 73.3M/73.3M [00:00<00:00, 226MB/s] \n",
      "Downloading: 100%|██████████| 4.04k/4.04k [00:00<00:00, 1.75MB/s]\n",
      "Downloading: 100%|██████████| 12.8k/12.8k [00:00<00:00, 5.55MB/s]\n",
      "Downloading: 100%|██████████| 29.6k/29.6k [00:00<00:00, 12.9MB/s]\n",
      "2023-10-07 21:01:00,978 - modelscope - INFO - initiate model from /mnt/workspace/.cache/modelscope/damo/cv_convnextTiny_ocr-recognition-licenseplate_damo\n",
      "2023-10-07 21:01:00,978 - modelscope - INFO - initiate model from location /mnt/workspace/.cache/modelscope/damo/cv_convnextTiny_ocr-recognition-licenseplate_damo.\n",
      "2023-10-07 21:01:00,981 - modelscope - INFO - initialize model from /mnt/workspace/.cache/modelscope/damo/cv_convnextTiny_ocr-recognition-licenseplate_damo\n",
      "2023-10-07 21:01:06,463 - modelscope - INFO - cuda is not available, using cpu instead.\n",
      "2023-10-07 21:01:06,464 - modelscope - INFO - loading model from dir /mnt/workspace/.cache/modelscope/damo/cv_convnextTiny_ocr-recognition-licenseplate_damo\n",
      "2023-10-07 21:01:06,469 - modelscope - INFO - loading model done\n"
     ]
    },
    {
     "name": "stdout",
     "output_type": "stream",
     "text": [
      "{'text': ['鲁QF451挂']}\n"
     ]
    }
   ],
   "source": [
    "# 给定一张文本图片，识别出图中所含文字并输出对应字符串\n",
    "ocr_recognition = pipeline(Tasks.ocr_recognition, model='damo/cv_convnextTiny_ocr-recognition-licenseplate_damo')\n",
    "\n",
    "### 使用url\n",
    "img_url = 'http://duguang-labelling.oss-cn-shanghai.aliyuncs.com/mass_img_licenseplate//ocr_recognition_licenseplate.jpg'\n",
    "result = ocr_recognition(img_url)\n",
    "print(result)\n",
    "\n",
    "### 使用图像文件\n",
    "### 请准备好名为'ocr_recognition_licenseplate.jpg'的图像文件\n",
    "# img_path = 'ocr_recognition_licenseplate.jpg'\n",
    "# img = cv2.imread(img_path)\n",
    "# result = ocr_recognition(img)\n",
    "# print(result)"
   ]
  },
  {
   "cell_type": "code",
   "execution_count": 13,
   "id": "f33d09a5-837d-4602-99eb-40ea74ed1e62",
   "metadata": {
    "ExecutionIndicator": {
     "show": false
    },
    "execution": {
     "iopub.execute_input": "2023-10-07T13:27:13.768426Z",
     "iopub.status.busy": "2023-10-07T13:27:13.767933Z",
     "iopub.status.idle": "2023-10-07T13:27:13.773549Z",
     "shell.execute_reply": "2023-10-07T13:27:13.772603Z",
     "shell.execute_reply.started": "2023-10-07T13:27:13.768391Z"
    },
    "tags": []
   },
   "outputs": [
    {
     "name": "stderr",
     "output_type": "stream",
     "text": [
      "[ WARN:0@1791.033] global loadsave.cpp:248 findDecoder imread_('http://duguang-labelling.oss-cn-shanghai.aliyuncs.com/mass_img_licenseplate//ocr_recognition_licenseplate.jpg'): can't open/read file: check file path/integrity\n"
     ]
    }
   ],
   "source": [
    "plate_ploy = plate['polygons']\n",
    "img = cv2.imread\n",
    "img"
   ]
  },
  {
   "cell_type": "code",
   "execution_count": 18,
   "id": "1cf2b541-f065-409a-b4b4-93fa0e846771",
   "metadata": {
    "ExecutionIndicator": {
     "show": false
    },
    "execution": {
     "iopub.execute_input": "2023-10-07T14:23:42.913568Z",
     "iopub.status.busy": "2023-10-07T14:23:42.913236Z",
     "iopub.status.idle": "2023-10-07T14:23:42.969914Z",
     "shell.execute_reply": "2023-10-07T14:23:42.969243Z",
     "shell.execute_reply.started": "2023-10-07T14:23:42.913550Z"
    },
    "tags": []
   },
   "outputs": [
    {
     "ename": "error",
     "evalue": "OpenCV(4.8.0) :-1: error: (-5:Bad argument) in function 'imshow'\n> Overload resolution failed:\n>  - imshow() missing required argument 'mat' (pos 2)\n>  - imshow() missing required argument 'mat' (pos 2)\n>  - imshow() missing required argument 'mat' (pos 2)\n",
     "output_type": "error",
     "traceback": [
      "\u001b[0;31m---------------------------------------------------------------------------\u001b[0m",
      "\u001b[0;31merror\u001b[0m                                     Traceback (most recent call last)",
      "Cell \u001b[0;32mIn[18], line 6\u001b[0m\n\u001b[1;32m      4\u001b[0m img \u001b[38;5;241m=\u001b[39m np\u001b[38;5;241m.\u001b[39masarray(\u001b[38;5;28mbytearray\u001b[39m(res\u001b[38;5;241m.\u001b[39mread()), dtype\u001b[38;5;241m=\u001b[39m\u001b[38;5;124m\"\u001b[39m\u001b[38;5;124muint8\u001b[39m\u001b[38;5;124m\"\u001b[39m)\n\u001b[1;32m      5\u001b[0m img \u001b[38;5;241m=\u001b[39m cv2\u001b[38;5;241m.\u001b[39mimdecode(img, cv2\u001b[38;5;241m.\u001b[39mIMREAD_COLOR)\n\u001b[0;32m----> 6\u001b[0m \u001b[43mcv2\u001b[49m\u001b[38;5;241;43m.\u001b[39;49m\u001b[43mimshow\u001b[49m\u001b[43m(\u001b[49m\u001b[43mimg\u001b[49m\u001b[43m)\u001b[49m\n\u001b[1;32m      7\u001b[0m cv2\u001b[38;5;241m.\u001b[39mwaitKey(\u001b[38;5;241m0\u001b[39m)\n",
      "\u001b[0;31merror\u001b[0m: OpenCV(4.8.0) :-1: error: (-5:Bad argument) in function 'imshow'\n> Overload resolution failed:\n>  - imshow() missing required argument 'mat' (pos 2)\n>  - imshow() missing required argument 'mat' (pos 2)\n>  - imshow() missing required argument 'mat' (pos 2)\n"
     ]
    }
   ],
   "source": [
    "import numpy as np\n",
    "import urllib.request\n",
    "res = urllib.request.urlopen(img_url)\n",
    "img = np.asarray(bytearray(res.read()), dtype=\"uint8\")\n",
    "img = cv2.imdecode(img, cv2.IMREAD_COLOR)\n",
    "cv2.imshow('',img)\n",
    "cv2.waitKey(0)"
   ]
  }
 ],
 "metadata": {
  "kernelspec": {
   "display_name": "Python 3 (ipykernel)",
   "language": "python",
   "name": "python3"
  },
  "language_info": {
   "codemirror_mode": {
    "name": "ipython",
    "version": 3
   },
   "file_extension": ".py",
   "mimetype": "text/x-python",
   "name": "python",
   "nbconvert_exporter": "python",
   "pygments_lexer": "ipython3",
   "version": "3.8.16"
  }
 },
 "nbformat": 4,
 "nbformat_minor": 5
}
