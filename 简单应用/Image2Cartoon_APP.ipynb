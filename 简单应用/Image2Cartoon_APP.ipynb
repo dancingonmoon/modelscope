{
 "cells": [
  {
   "cell_type": "code",
   "execution_count": 1,
   "id": "73dc4bdf-7732-4479-a2f2-9d1f4ae569c3",
   "metadata": {
    "execution": {
     "iopub.execute_input": "2023-08-15T12:42:38.268551Z",
     "iopub.status.busy": "2023-08-15T12:42:38.268256Z",
     "iopub.status.idle": "2023-08-15T12:42:47.848434Z",
     "shell.execute_reply": "2023-08-15T12:42:47.847691Z",
     "shell.execute_reply.started": "2023-08-15T12:42:38.268534Z"
    },
    "tags": []
   },
   "outputs": [
    {
     "name": "stdout",
     "output_type": "stream",
     "text": [
      "Looking in indexes: https://mirrors.cloud.aliyuncs.com/pypi/simple\n",
      "Collecting gradio\n",
      "  Downloading https://mirrors.cloud.aliyuncs.com/pypi/packages/58/c8/d155c02c382b7bcb3733d6025bb15c818d82768230b3fa550eeb39a24a82/gradio-3.40.1-py3-none-any.whl (20.0 MB)\n",
      "\u001b[2K     \u001b[90m━━━━━━━━━━━━━━━━━━━━━━━━━━━━━━━━━━━━━━━━\u001b[0m \u001b[32m20.0/20.0 MB\u001b[0m \u001b[31m47.3 MB/s\u001b[0m eta \u001b[36m0:00:00\u001b[0m00:01\u001b[0m00:01\u001b[0m\n",
      "\u001b[?25hCollecting aiofiles<24.0,>=22.0 (from gradio)\n",
      "  Downloading https://mirrors.cloud.aliyuncs.com/pypi/packages/c5/19/5af6804c4cc0fed83f47bff6e413a98a36618e7d40185cd36e69737f3b0e/aiofiles-23.2.1-py3-none-any.whl (15 kB)\n",
      "Requirement already satisfied: aiohttp~=3.0 in /opt/conda/lib/python3.8/site-packages (from gradio) (3.8.5)\n",
      "Collecting altair<6.0,>=4.2.0 (from gradio)\n",
      "  Downloading https://mirrors.cloud.aliyuncs.com/pypi/packages/b2/20/5c3b89d6f8d9938325a9330793438389e0dc94c34d921f6da35ec62095f3/altair-5.0.1-py3-none-any.whl (471 kB)\n",
      "\u001b[2K     \u001b[90m━━━━━━━━━━━━━━━━━━━━━━━━━━━━━━━━━━━━━━\u001b[0m \u001b[32m471.5/471.5 kB\u001b[0m \u001b[31m93.4 MB/s\u001b[0m eta \u001b[36m0:00:00\u001b[0m\n",
      "\u001b[?25hCollecting fastapi (from gradio)\n",
      "  Downloading https://mirrors.cloud.aliyuncs.com/pypi/packages/09/ae/8378894f9fbdf0297cdffdc79496ccd779166d675fec47cad8d2ca782739/fastapi-0.101.1-py3-none-any.whl (65 kB)\n",
      "\u001b[2K     \u001b[90m━━━━━━━━━━━━━━━━━━━━━━━━━━━━━━━━━━━━━━━━\u001b[0m \u001b[32m65.8/65.8 kB\u001b[0m \u001b[31m23.7 MB/s\u001b[0m eta \u001b[36m0:00:00\u001b[0m\n",
      "\u001b[?25hCollecting ffmpy (from gradio)\n",
      "  Downloading https://mirrors.cloud.aliyuncs.com/pypi/packages/9a/06/49b275a312eb207e2a2718a7414dedfded05088437352b67aaa9a355f948/ffmpy-0.3.1.tar.gz (5.5 kB)\n",
      "  Preparing metadata (setup.py) ... \u001b[?25ldone\n",
      "\u001b[?25hCollecting gradio-client>=0.4.0 (from gradio)\n",
      "  Downloading https://mirrors.cloud.aliyuncs.com/pypi/packages/85/29/f3b1e5f54b893665cd703a9ad3b67e534d50c5a2cf14557571a8bb91b0d8/gradio_client-0.4.0-py3-none-any.whl (297 kB)\n",
      "\u001b[2K     \u001b[90m━━━━━━━━━━━━━━━━━━━━━━━━━━━━━━━━━━━━━━\u001b[0m \u001b[32m297.4/297.4 kB\u001b[0m \u001b[31m78.5 MB/s\u001b[0m eta \u001b[36m0:00:00\u001b[0m\n",
      "\u001b[?25hCollecting httpx (from gradio)\n",
      "  Downloading https://mirrors.cloud.aliyuncs.com/pypi/packages/ec/91/e41f64f03d2a13aee7e8c819d82ee3aa7cdc484d18c0ae859742597d5aa0/httpx-0.24.1-py3-none-any.whl (75 kB)\n",
      "\u001b[2K     \u001b[90m━━━━━━━━━━━━━━━━━━━━━━━━━━━━━━━━━━━━━━━━\u001b[0m \u001b[32m75.4/75.4 kB\u001b[0m \u001b[31m16.7 MB/s\u001b[0m eta \u001b[36m0:00:00\u001b[0m\n",
      "\u001b[?25hRequirement already satisfied: huggingface-hub>=0.14.0 in /opt/conda/lib/python3.8/site-packages (from gradio) (0.16.4)\n",
      "Requirement already satisfied: importlib-resources<7.0,>=1.3 in /opt/conda/lib/python3.8/site-packages (from gradio) (6.0.0)\n",
      "Requirement already satisfied: jinja2<4.0 in /opt/conda/lib/python3.8/site-packages (from gradio) (3.1.2)\n",
      "Requirement already satisfied: markdown-it-py[linkify]>=2.0.0 in /opt/conda/lib/python3.8/site-packages (from gradio) (3.0.0)\n",
      "Requirement already satisfied: markupsafe~=2.0 in /opt/conda/lib/python3.8/site-packages (from gradio) (2.1.3)\n",
      "Requirement already satisfied: matplotlib~=3.0 in /opt/conda/lib/python3.8/site-packages (from gradio) (3.5.2)\n",
      "Collecting mdit-py-plugins<=0.3.3 (from gradio)\n",
      "  Downloading https://mirrors.cloud.aliyuncs.com/pypi/packages/33/eb/c358112e8265f827cf8228eda36cf2a720ad933f5ca66f47f808edf4bb34/mdit_py_plugins-0.3.3-py3-none-any.whl (50 kB)\n",
      "\u001b[2K     \u001b[90m━━━━━━━━━━━━━━━━━━━━━━━━━━━━━━━━━━━━━━━━\u001b[0m \u001b[32m50.5/50.5 kB\u001b[0m \u001b[31m11.5 MB/s\u001b[0m eta \u001b[36m0:00:00\u001b[0m\n",
      "\u001b[?25hRequirement already satisfied: numpy~=1.0 in /opt/conda/lib/python3.8/site-packages (from gradio) (1.22.0)\n",
      "Collecting orjson~=3.0 (from gradio)\n",
      "  Downloading https://mirrors.cloud.aliyuncs.com/pypi/packages/17/4f/98e4100b74bc0083ffee1b07aeda0cc01cba7a781b0a4587a35f7251f983/orjson-3.9.4-cp38-cp38-manylinux_2_17_x86_64.manylinux2014_x86_64.whl (140 kB)\n",
      "\u001b[2K     \u001b[90m━━━━━━━━━━━━━━━━━━━━━━━━━━━━━━━━━━━━━━\u001b[0m \u001b[32m140.0/140.0 kB\u001b[0m \u001b[31m13.5 MB/s\u001b[0m eta \u001b[36m0:00:00\u001b[0m\n",
      "\u001b[?25hRequirement already satisfied: packaging in /opt/conda/lib/python3.8/site-packages (from gradio) (23.0)\n",
      "Requirement already satisfied: pandas<3.0,>=1.0 in /opt/conda/lib/python3.8/site-packages (from gradio) (1.3.5)\n",
      "Requirement already satisfied: pillow<11.0,>=8.0 in /opt/conda/lib/python3.8/site-packages (from gradio) (10.0.0)\n",
      "Requirement already satisfied: pydantic!=1.8,!=1.8.1,!=2.0.0,!=2.0.1,<3.0.0,>=1.7.4 in /opt/conda/lib/python3.8/site-packages (from gradio) (1.10.12)\n",
      "Collecting pydub (from gradio)\n",
      "  Downloading https://mirrors.cloud.aliyuncs.com/pypi/packages/a6/53/d78dc063216e62fc55f6b2eebb447f6a4b0a59f55c8406376f76bf959b08/pydub-0.25.1-py2.py3-none-any.whl (32 kB)\n",
      "Collecting python-multipart (from gradio)\n",
      "  Downloading https://mirrors.cloud.aliyuncs.com/pypi/packages/b4/ff/b1e11d8bffb5e0e1b6d27f402eeedbeb9be6df2cdbc09356a1ae49806dbf/python_multipart-0.0.6-py3-none-any.whl (45 kB)\n",
      "\u001b[2K     \u001b[90m━━━━━━━━━━━━━━━━━━━━━━━━━━━━━━━━━━━━━━━━\u001b[0m \u001b[32m45.7/45.7 kB\u001b[0m \u001b[31m19.8 MB/s\u001b[0m eta \u001b[36m0:00:00\u001b[0m\n",
      "\u001b[?25hRequirement already satisfied: pyyaml<7.0,>=5.0 in /opt/conda/lib/python3.8/site-packages (from gradio) (6.0.1)\n",
      "Requirement already satisfied: requests~=2.0 in /opt/conda/lib/python3.8/site-packages (from gradio) (2.29.0)\n",
      "Collecting semantic-version~=2.0 (from gradio)\n",
      "  Downloading https://mirrors.cloud.aliyuncs.com/pypi/packages/6a/23/8146aad7d88f4fcb3a6218f41a60f6c2d4e3a72de72da1825dc7c8f7877c/semantic_version-2.10.0-py2.py3-none-any.whl (15 kB)\n",
      "Requirement already satisfied: typing-extensions~=4.0 in /opt/conda/lib/python3.8/site-packages (from gradio) (4.7.1)\n",
      "Collecting uvicorn>=0.14.0 (from gradio)\n",
      "  Downloading https://mirrors.cloud.aliyuncs.com/pypi/packages/79/96/b0882a1c3f7ef3dd86879e041212ae5b62b4bd352320889231cc735a8e8f/uvicorn-0.23.2-py3-none-any.whl (59 kB)\n",
      "\u001b[2K     \u001b[90m━━━━━━━━━━━━━━━━━━━━━━━━━━━━━━━━━━━━━━━━\u001b[0m \u001b[32m59.5/59.5 kB\u001b[0m \u001b[31m24.6 MB/s\u001b[0m eta \u001b[36m0:00:00\u001b[0m\n",
      "\u001b[?25hCollecting websockets<12.0,>=10.0 (from gradio)\n",
      "  Downloading https://mirrors.cloud.aliyuncs.com/pypi/packages/58/05/2efb520317340ece74bfc4d88e8f011dd71a4e6c263000bfffb71a343685/websockets-11.0.3-cp38-cp38-manylinux_2_5_x86_64.manylinux1_x86_64.manylinux_2_17_x86_64.manylinux2014_x86_64.whl (130 kB)\n",
      "\u001b[2K     \u001b[90m━━━━━━━━━━━━━━━━━━━━━━━━━━━━━━━━━━━━━━\u001b[0m \u001b[32m130.2/130.2 kB\u001b[0m \u001b[31m37.4 MB/s\u001b[0m eta \u001b[36m0:00:00\u001b[0m\n",
      "\u001b[?25hRequirement already satisfied: attrs>=17.3.0 in /opt/conda/lib/python3.8/site-packages (from aiohttp~=3.0->gradio) (23.1.0)\n",
      "Requirement already satisfied: charset-normalizer<4.0,>=2.0 in /opt/conda/lib/python3.8/site-packages (from aiohttp~=3.0->gradio) (2.0.4)\n",
      "Requirement already satisfied: multidict<7.0,>=4.5 in /opt/conda/lib/python3.8/site-packages (from aiohttp~=3.0->gradio) (6.0.4)\n",
      "Requirement already satisfied: async-timeout<5.0,>=4.0.0a3 in /opt/conda/lib/python3.8/site-packages (from aiohttp~=3.0->gradio) (4.0.2)\n",
      "Requirement already satisfied: yarl<2.0,>=1.0 in /opt/conda/lib/python3.8/site-packages (from aiohttp~=3.0->gradio) (1.9.2)\n",
      "Requirement already satisfied: frozenlist>=1.1.1 in /opt/conda/lib/python3.8/site-packages (from aiohttp~=3.0->gradio) (1.4.0)\n",
      "Requirement already satisfied: aiosignal>=1.1.2 in /opt/conda/lib/python3.8/site-packages (from aiohttp~=3.0->gradio) (1.3.1)\n",
      "Requirement already satisfied: jsonschema>=3.0 in /opt/conda/lib/python3.8/site-packages (from altair<6.0,>=4.2.0->gradio) (4.18.4)\n",
      "Requirement already satisfied: toolz in /opt/conda/lib/python3.8/site-packages (from altair<6.0,>=4.2.0->gradio) (0.12.0)\n",
      "Requirement already satisfied: fsspec in /opt/conda/lib/python3.8/site-packages (from gradio-client>=0.4.0->gradio) (2023.6.0)\n",
      "Requirement already satisfied: filelock in /opt/conda/lib/python3.8/site-packages (from huggingface-hub>=0.14.0->gradio) (3.12.2)\n",
      "Requirement already satisfied: tqdm>=4.42.1 in /opt/conda/lib/python3.8/site-packages (from huggingface-hub>=0.14.0->gradio) (4.65.0)\n",
      "Requirement already satisfied: zipp>=3.1.0 in /opt/conda/lib/python3.8/site-packages (from importlib-resources<7.0,>=1.3->gradio) (3.16.2)\n",
      "Requirement already satisfied: mdurl~=0.1 in /opt/conda/lib/python3.8/site-packages (from markdown-it-py[linkify]>=2.0.0->gradio) (0.1.2)\n",
      "Collecting linkify-it-py<3,>=1 (from markdown-it-py[linkify]>=2.0.0->gradio)\n",
      "  Downloading https://mirrors.cloud.aliyuncs.com/pypi/packages/1f/1a/16b0d2f66601ba3081f1d4177087c79fd1f11d17706ee01d373e4ba8e00d/linkify_it_py-2.0.2-py3-none-any.whl (19 kB)\n",
      "Requirement already satisfied: cycler>=0.10 in /opt/conda/lib/python3.8/site-packages (from matplotlib~=3.0->gradio) (0.11.0)\n",
      "Requirement already satisfied: fonttools>=4.22.0 in /opt/conda/lib/python3.8/site-packages (from matplotlib~=3.0->gradio) (4.41.1)\n",
      "Requirement already satisfied: kiwisolver>=1.0.1 in /opt/conda/lib/python3.8/site-packages (from matplotlib~=3.0->gradio) (1.4.4)\n",
      "Requirement already satisfied: pyparsing>=2.2.1 in /opt/conda/lib/python3.8/site-packages (from matplotlib~=3.0->gradio) (3.0.9)\n",
      "Requirement already satisfied: python-dateutil>=2.7 in /opt/conda/lib/python3.8/site-packages (from matplotlib~=3.0->gradio) (2.8.2)\n",
      "INFO: pip is looking at multiple versions of mdit-py-plugins to determine which version is compatible with other requirements. This could take a while.\n",
      "Collecting mdit-py-plugins<=0.3.3 (from gradio)\n",
      "  Downloading https://mirrors.cloud.aliyuncs.com/pypi/packages/e4/92/268849737427f7f9a128d2586e561a7dfac723c02f3aaaaef4d27dd6829c/mdit_py_plugins-0.3.2-py3-none-any.whl (50 kB)\n",
      "\u001b[2K     \u001b[90m━━━━━━━━━━━━━━━━━━━━━━━━━━━━━━━━━━━━━━━━\u001b[0m \u001b[32m50.4/50.4 kB\u001b[0m \u001b[31m11.8 MB/s\u001b[0m eta \u001b[36m0:00:00\u001b[0m\n",
      "\u001b[?25h  Downloading https://mirrors.cloud.aliyuncs.com/pypi/packages/de/d9/20870f611989b8dcfd2395eddefdd4b1983d6c36513cce7fbbe9eb345768/mdit_py_plugins-0.3.1-py3-none-any.whl (46 kB)\n",
      "\u001b[2K     \u001b[90m━━━━━━━━━━━━━━━━━━━━━━━━━━━━━━━━━━━━━━━━\u001b[0m \u001b[32m46.5/46.5 kB\u001b[0m \u001b[31m19.2 MB/s\u001b[0m eta \u001b[36m0:00:00\u001b[0m\n",
      "\u001b[?25h  Downloading https://mirrors.cloud.aliyuncs.com/pypi/packages/5b/c4/1cf60e11b55197fa2e5e8d2f732a229690f5a08b018ae1cf4c00585ca834/mdit_py_plugins-0.3.0-py3-none-any.whl (43 kB)\n",
      "\u001b[2K     \u001b[90m━━━━━━━━━━━━━━━━━━━━━━━━━━━━━━━━━━━━━━━━\u001b[0m \u001b[32m43.7/43.7 kB\u001b[0m \u001b[31m11.8 MB/s\u001b[0m eta \u001b[36m0:00:00\u001b[0m\n",
      "\u001b[?25h  Downloading https://mirrors.cloud.aliyuncs.com/pypi/packages/c0/cb/782222da2cc3d543aee662c33cbaf611ec010146ca21c91d5743e8d99603/mdit_py_plugins-0.2.8-py3-none-any.whl (41 kB)\n",
      "\u001b[2K     \u001b[90m━━━━━━━━━━━━━━━━━━━━━━━━━━━━━━━━━━━━━━━━\u001b[0m \u001b[32m41.0/41.0 kB\u001b[0m \u001b[31m17.4 MB/s\u001b[0m eta \u001b[36m0:00:00\u001b[0m\n",
      "\u001b[?25h  Downloading https://mirrors.cloud.aliyuncs.com/pypi/packages/58/04/d5538523c5aae983c6057e6feba23dccb1da39d022264d7dacac1bfc4cd6/mdit_py_plugins-0.2.7-py3-none-any.whl (41 kB)\n",
      "\u001b[2K     \u001b[90m━━━━━━━━━━━━━━━━━━━━━━━━━━━━━━━━━━━━━━━━\u001b[0m \u001b[32m41.0/41.0 kB\u001b[0m \u001b[31m12.9 MB/s\u001b[0m eta \u001b[36m0:00:00\u001b[0m\n",
      "\u001b[?25h  Downloading https://mirrors.cloud.aliyuncs.com/pypi/packages/0c/31/f0ecaccf7cd2db17332a94852f190840167c3cb7eadf09efe498412f909a/mdit_py_plugins-0.2.6-py3-none-any.whl (39 kB)\n",
      "  Downloading https://mirrors.cloud.aliyuncs.com/pypi/packages/66/62/fae9ee5766a7153d571ad732ef514c552efeaa31735fd60e6d9bc07fa9e4/mdit_py_plugins-0.2.5-py3-none-any.whl (39 kB)\n",
      "INFO: pip is still looking at multiple versions of mdit-py-plugins to determine which version is compatible with other requirements. This could take a while.\n",
      "  Downloading https://mirrors.cloud.aliyuncs.com/pypi/packages/9d/df/16e87ebd0bb9d946d3b2d39c1171398f7f71eef5d9ca85adb94131b8c7b5/mdit_py_plugins-0.2.4-py3-none-any.whl (39 kB)\n",
      "  Downloading https://mirrors.cloud.aliyuncs.com/pypi/packages/97/23/3e017136aefe61b442fee2869fcc7756c814e3cfe551f225e1e085f27217/mdit_py_plugins-0.2.3-py3-none-any.whl (39 kB)\n",
      "  Downloading https://mirrors.cloud.aliyuncs.com/pypi/packages/40/fe/0f06e8545ac0578741342cc00305b8d955863b72755af0c3771f339099fb/mdit_py_plugins-0.2.2-py3-none-any.whl (39 kB)\n",
      "  Downloading https://mirrors.cloud.aliyuncs.com/pypi/packages/64/f2/b477dfb13e6d3db6421cf61cd7b76562f16141e81cb174d837dda519253b/mdit_py_plugins-0.2.1-py3-none-any.whl (38 kB)\n",
      "  Downloading https://mirrors.cloud.aliyuncs.com/pypi/packages/5b/78/e3b8c43edce725d01021d5b2947dc6d425ee5201cece4bc3d6a757720151/mdit_py_plugins-0.2.0-py3-none-any.whl (38 kB)\n",
      "INFO: This is taking longer than usual. You might need to provide the dependency resolver with stricter constraints to reduce runtime. See https://pip.pypa.io/warnings/backtracking for guidance. If you want to abort this run, press Ctrl + C.\n",
      "  Downloading https://mirrors.cloud.aliyuncs.com/pypi/packages/00/02/280276967a2328199700b5e16bf427c4b4af1c54fdd6a00623ef93ed25c2/mdit_py_plugins-0.1.0-py3-none-any.whl (37 kB)\n",
      "Collecting markdown-it-py[linkify]>=2.0.0 (from gradio)\n",
      "  Downloading https://mirrors.cloud.aliyuncs.com/pypi/packages/42/d7/1ec15b46af6af88f19b8e5ffea08fa375d433c998b8a7639e76935c14f1f/markdown_it_py-3.0.0-py3-none-any.whl (87 kB)\n",
      "\u001b[2K     \u001b[90m━━━━━━━━━━━━━━━━━━━━━━━━━━━━━━━━━━━━━━━━\u001b[0m \u001b[32m87.5/87.5 kB\u001b[0m \u001b[31m35.5 MB/s\u001b[0m eta \u001b[36m0:00:00\u001b[0m\n",
      "\u001b[?25h  Downloading https://mirrors.cloud.aliyuncs.com/pypi/packages/bf/25/2d88e8feee8e055d015343f9b86e370a1ccbec546f2865c98397aaef24af/markdown_it_py-2.2.0-py3-none-any.whl (84 kB)\n",
      "\u001b[2K     \u001b[90m━━━━━━━━━━━━━━━━━━━━━━━━━━━━━━━━━━━━━━━━\u001b[0m \u001b[32m84.5/84.5 kB\u001b[0m \u001b[31m36.3 MB/s\u001b[0m eta \u001b[36m0:00:00\u001b[0m\n",
      "\u001b[?25hRequirement already satisfied: pytz>=2017.3 in /opt/conda/lib/python3.8/site-packages (from pandas<3.0,>=1.0->gradio) (2023.3)\n",
      "Requirement already satisfied: idna<4,>=2.5 in /opt/conda/lib/python3.8/site-packages (from requests~=2.0->gradio) (3.4)\n",
      "Requirement already satisfied: urllib3<1.27,>=1.21.1 in /opt/conda/lib/python3.8/site-packages (from requests~=2.0->gradio) (1.26.16)\n",
      "Requirement already satisfied: certifi>=2017.4.17 in /opt/conda/lib/python3.8/site-packages (from requests~=2.0->gradio) (2023.5.7)\n",
      "Requirement already satisfied: click>=7.0 in /opt/conda/lib/python3.8/site-packages (from uvicorn>=0.14.0->gradio) (8.0.4)\n",
      "Collecting h11>=0.8 (from uvicorn>=0.14.0->gradio)\n",
      "  Downloading https://mirrors.cloud.aliyuncs.com/pypi/packages/95/04/ff642e65ad6b90db43e668d70ffb6736436c7ce41fcc549f4e9472234127/h11-0.14.0-py3-none-any.whl (58 kB)\n",
      "\u001b[2K     \u001b[90m━━━━━━━━━━━━━━━━━━━━━━━━━━━━━━━━━━━━━━━━\u001b[0m \u001b[32m58.3/58.3 kB\u001b[0m \u001b[31m27.5 MB/s\u001b[0m eta \u001b[36m0:00:00\u001b[0m\n",
      "\u001b[?25hCollecting starlette<0.28.0,>=0.27.0 (from fastapi->gradio)\n",
      "  Downloading https://mirrors.cloud.aliyuncs.com/pypi/packages/58/f8/e2cca22387965584a409795913b774235752be4176d276714e15e1a58884/starlette-0.27.0-py3-none-any.whl (66 kB)\n",
      "\u001b[2K     \u001b[90m━━━━━━━━━━━━━━━━━━━━━━━━━━━━━━━━━━━━━━━━\u001b[0m \u001b[32m67.0/67.0 kB\u001b[0m \u001b[31m30.5 MB/s\u001b[0m eta \u001b[36m0:00:00\u001b[0m\n",
      "\u001b[?25hCollecting httpcore<0.18.0,>=0.15.0 (from httpx->gradio)\n",
      "  Downloading https://mirrors.cloud.aliyuncs.com/pypi/packages/94/2c/2bde7ff8dd2064395555220cbf7cba79991172bf5315a07eb3ac7688d9f1/httpcore-0.17.3-py3-none-any.whl (74 kB)\n",
      "\u001b[2K     \u001b[90m━━━━━━━━━━━━━━━━━━━━━━━━━━━━━━━━━━━━━━━━\u001b[0m \u001b[32m74.5/74.5 kB\u001b[0m \u001b[31m32.1 MB/s\u001b[0m eta \u001b[36m0:00:00\u001b[0m\n",
      "\u001b[?25hRequirement already satisfied: sniffio in /opt/conda/lib/python3.8/site-packages (from httpx->gradio) (1.3.0)\n",
      "Requirement already satisfied: anyio<5.0,>=3.0 in /opt/conda/lib/python3.8/site-packages (from httpcore<0.18.0,>=0.15.0->httpx->gradio) (3.7.1)\n",
      "Requirement already satisfied: jsonschema-specifications>=2023.03.6 in /opt/conda/lib/python3.8/site-packages (from jsonschema>=3.0->altair<6.0,>=4.2.0->gradio) (2023.7.1)\n",
      "Requirement already satisfied: pkgutil-resolve-name>=1.3.10 in /opt/conda/lib/python3.8/site-packages (from jsonschema>=3.0->altair<6.0,>=4.2.0->gradio) (1.3.10)\n",
      "Requirement already satisfied: referencing>=0.28.4 in /opt/conda/lib/python3.8/site-packages (from jsonschema>=3.0->altair<6.0,>=4.2.0->gradio) (0.30.0)\n",
      "Requirement already satisfied: rpds-py>=0.7.1 in /opt/conda/lib/python3.8/site-packages (from jsonschema>=3.0->altair<6.0,>=4.2.0->gradio) (0.9.2)\n",
      "Collecting uc-micro-py (from linkify-it-py<3,>=1->markdown-it-py[linkify]>=2.0.0->gradio)\n",
      "  Downloading https://mirrors.cloud.aliyuncs.com/pypi/packages/d1/1c/5aeb94aa980da111e4fd0c0fbe5ad95ed5bf9bd957f8e2a6178b85ff4da8/uc_micro_py-1.0.2-py3-none-any.whl (6.2 kB)\n",
      "Requirement already satisfied: six>=1.5 in /opt/conda/lib/python3.8/site-packages (from python-dateutil>=2.7->matplotlib~=3.0->gradio) (1.16.0)\n",
      "Requirement already satisfied: exceptiongroup in /opt/conda/lib/python3.8/site-packages (from anyio<5.0,>=3.0->httpcore<0.18.0,>=0.15.0->httpx->gradio) (1.1.2)\n",
      "Building wheels for collected packages: ffmpy\n",
      "  Building wheel for ffmpy (setup.py) ... \u001b[?25ldone\n",
      "\u001b[?25h  Created wheel for ffmpy: filename=ffmpy-0.3.1-py3-none-any.whl size=5595 sha256=856c6422997a113e8f07a377c538fd1b10b46198869e1572f6c72554f7eabf39\n",
      "  Stored in directory: /root/.cache/pip/wheels/0e/02/32/68d12eb13c12f6cc303af2aac24c63e3c4a315332b51c31f97\n",
      "Successfully built ffmpy\n",
      "\u001b[33mDEPRECATION: pytorch-lightning 1.7.7 has a non-standard dependency specifier torch>=1.9.*. pip 23.3 will enforce this behaviour change. A possible replacement is to upgrade to a newer version of pytorch-lightning or contact the author to suggest that they release a version with a conforming dependency specifiers. Discussion can be found at https://github.com/pypa/pip/issues/12063\u001b[0m\u001b[33m\n",
      "\u001b[0mInstalling collected packages: pydub, ffmpy, websockets, uc-micro-py, semantic-version, python-multipart, orjson, markdown-it-py, h11, aiofiles, uvicorn, starlette, mdit-py-plugins, linkify-it-py, httpcore, httpx, fastapi, gradio-client, altair, gradio\n",
      "  Attempting uninstall: markdown-it-py\n",
      "    Found existing installation: markdown-it-py 3.0.0\n",
      "    Uninstalling markdown-it-py-3.0.0:\n",
      "      Successfully uninstalled markdown-it-py-3.0.0\n",
      "Successfully installed aiofiles-23.2.1 altair-5.0.1 fastapi-0.101.1 ffmpy-0.3.1 gradio-3.40.1 gradio-client-0.4.0 h11-0.14.0 httpcore-0.17.3 httpx-0.24.1 linkify-it-py-2.0.2 markdown-it-py-2.2.0 mdit-py-plugins-0.3.3 orjson-3.9.4 pydub-0.25.1 python-multipart-0.0.6 semantic-version-2.10.0 starlette-0.27.0 uc-micro-py-1.0.2 uvicorn-0.23.2 websockets-11.0.3\n",
      "\u001b[33mWARNING: Running pip as the 'root' user can result in broken permissions and conflicting behaviour with the system package manager. It is recommended to use a virtual environment instead: https://pip.pypa.io/warnings/venv\u001b[0m\u001b[33m\n",
      "\u001b[0m"
     ]
    }
   ],
   "source": [
    "!pip install gradio"
   ]
  },
  {
   "cell_type": "code",
   "execution_count": 29,
   "id": "4abc7dec-9818-4c5a-b761-116b5d771702",
   "metadata": {
    "ExecutionIndicator": {
     "show": true
    },
    "execution": {
     "iopub.execute_input": "2023-08-15T14:20:21.856262Z",
     "iopub.status.busy": "2023-08-15T14:20:21.855937Z",
     "iopub.status.idle": "2023-08-15T14:20:33.812460Z",
     "shell.execute_reply": "2023-08-15T14:20:33.811969Z",
     "shell.execute_reply.started": "2023-08-15T14:20:21.856245Z"
    },
    "tags": []
   },
   "outputs": [
    {
     "name": "stderr",
     "output_type": "stream",
     "text": [
      "2023-08-15 22:20:22,274 - modelscope - INFO - Model revision not specified, use the latest revision: v1.0.1\n",
      "Downloading: 100%|██████████| 22.6k/22.6k [00:00<00:00, 4.23MB/s]\n",
      "Downloading: 100%|██████████| 5.62M/5.62M [00:00<00:00, 125MB/s]\n",
      "Downloading: 100%|██████████| 5.62M/5.62M [00:00<00:00, 51.0MB/s]\n",
      "Downloading: 100%|██████████| 499/499 [00:00<00:00, 418kB/s]\n",
      "Downloading: 100%|██████████| 3.28M/3.28M [00:00<00:00, 64.2MB/s]\n",
      "Downloading: 100%|██████████| 4.27M/4.27M [00:00<00:00, 41.5MB/s]\n",
      "Downloading: 100%|██████████| 3.95M/3.95M [00:00<00:00, 107MB/s]\n",
      "Downloading: 100%|██████████| 29.9M/29.9M [00:00<00:00, 91.6MB/s]\n",
      "Downloading: 100%|██████████| 11.1k/11.1k [00:00<00:00, 7.20MB/s]\n",
      "Downloading: 100%|██████████| 448k/448k [00:00<00:00, 16.5MB/s]\n",
      "Downloading: 100%|██████████| 7.02k/7.02k [00:00<00:00, 4.72MB/s]\n",
      "Downloading: 100%|██████████| 116M/116M [00:00<00:00, 335MB/s] \n",
      "2023-08-15 22:20:32,202 - modelscope - INFO - initiate model from /mnt/workspace/.cache/modelscope/damo/cv_unet_person-image-cartoon-handdrawn_compound-models\n",
      "2023-08-15 22:20:32,203 - modelscope - INFO - initiate model from location /mnt/workspace/.cache/modelscope/damo/cv_unet_person-image-cartoon-handdrawn_compound-models.\n",
      "2023-08-15 22:20:32,204 - modelscope - WARNING - No preprocessor field found in cfg.\n",
      "2023-08-15 22:20:32,205 - modelscope - WARNING - No val key and type key found in preprocessor domain of configuration.json file.\n",
      "2023-08-15 22:20:32,205 - modelscope - WARNING - Cannot find available config to build preprocessor at mode inference, current config: {'model_dir': '/mnt/workspace/.cache/modelscope/damo/cv_unet_person-image-cartoon-handdrawn_compound-models'}. trying to build by task and model information.\n",
      "2023-08-15 22:20:32,206 - modelscope - WARNING - Find task: image-portrait-stylization, model type: None. Insufficient information to build preprocessor, skip building preprocessor\n",
      "2023-08-15 22:20:32,445 - modelscope - INFO - loading model from /mnt/workspace/.cache/modelscope/damo/cv_unet_person-image-cartoon-handdrawn_compound-models/cartoon_h.pb\n",
      "2023-08-15 22:20:32,474 - modelscope - INFO - load model /mnt/workspace/.cache/modelscope/damo/cv_unet_person-image-cartoon-handdrawn_compound-models/cartoon_h.pb done.\n",
      "2023-08-15 22:20:32,475 - modelscope - INFO - loading model from /mnt/workspace/.cache/modelscope/damo/cv_unet_person-image-cartoon-handdrawn_compound-models/cartoon_bg.pb\n",
      "2023-08-15 22:20:32,504 - modelscope - INFO - load model /mnt/workspace/.cache/modelscope/damo/cv_unet_person-image-cartoon-handdrawn_compound-models/cartoon_bg.pb done.\n",
      "2023-08-15 22:20:32,879 - modelscope - INFO - Use user-specified model revision: v1.0.0\n",
      "2023-08-15 22:20:33,214 - modelscope - INFO - initiate model from /mnt/workspace/.cache/modelscope/damo/cv_unet_person-image-cartoon-3d_compound-models\n",
      "2023-08-15 22:20:33,214 - modelscope - INFO - initiate model from location /mnt/workspace/.cache/modelscope/damo/cv_unet_person-image-cartoon-3d_compound-models.\n",
      "2023-08-15 22:20:33,215 - modelscope - WARNING - No preprocessor field found in cfg.\n",
      "2023-08-15 22:20:33,216 - modelscope - WARNING - No val key and type key found in preprocessor domain of configuration.json file.\n",
      "2023-08-15 22:20:33,216 - modelscope - WARNING - Cannot find available config to build preprocessor at mode inference, current config: {'model_dir': '/mnt/workspace/.cache/modelscope/damo/cv_unet_person-image-cartoon-3d_compound-models'}. trying to build by task and model information.\n",
      "2023-08-15 22:20:33,216 - modelscope - WARNING - Find task: image-portrait-stylization, model type: None. Insufficient information to build preprocessor, skip building preprocessor\n",
      "2023-08-15 22:20:33,724 - modelscope - INFO - loading model from /mnt/workspace/.cache/modelscope/damo/cv_unet_person-image-cartoon-3d_compound-models/cartoon_h.pb\n",
      "2023-08-15 22:20:33,756 - modelscope - INFO - load model /mnt/workspace/.cache/modelscope/damo/cv_unet_person-image-cartoon-3d_compound-models/cartoon_h.pb done.\n",
      "2023-08-15 22:20:33,757 - modelscope - INFO - loading model from /mnt/workspace/.cache/modelscope/damo/cv_unet_person-image-cartoon-3d_compound-models/cartoon_bg.pb\n",
      "2023-08-15 22:20:33,788 - modelscope - INFO - load model /mnt/workspace/.cache/modelscope/damo/cv_unet_person-image-cartoon-3d_compound-models/cartoon_bg.pb done.\n"
     ]
    }
   ],
   "source": [
    "import cv2\n",
    "from modelscope.outputs import OutputKeys\n",
    "from modelscope.pipelines import pipeline\n",
    "from modelscope.utils.constant import Tasks\n",
    "\n",
    "import gradio as gr\n",
    "\n",
    "# 手绘:\n",
    "img_cartoon_art = pipeline(Tasks.image_portrait_stylization, \n",
    "                       'damo/cv_unet_person-image-cartoon-handdrawn_compound-models')\n",
    "# 3d卡通\n",
    "img_cartoon_3d = pipeline(Tasks.image_portrait_stylization, \n",
    "                       model='damo/cv_unet_person-image-cartoon-3d_compound-models', model_revision='v1.0.0')"
   ]
  },
  {
   "cell_type": "code",
   "execution_count": 31,
   "id": "795e38ef-59b6-4653-85e7-777e5c9a665d",
   "metadata": {
    "ExecutionIndicator": {
     "show": true
    },
    "execution": {
     "iopub.execute_input": "2023-08-15T14:22:34.454507Z",
     "iopub.status.busy": "2023-08-15T14:22:34.454191Z",
     "iopub.status.idle": "2023-08-15T14:22:34.457786Z",
     "shell.execute_reply": "2023-08-15T14:22:34.457300Z",
     "shell.execute_reply.started": "2023-08-15T14:22:34.454490Z"
    },
    "tags": []
   },
   "outputs": [],
   "source": [
    "def art_style(image_input):\n",
    "    result = img_cartoon_art(image_input)\n",
    "    image_output = result[OutputKeys.OUTPUT_IMG]/255 - 0.5\n",
    "    return image_output\n",
    "\n",
    "def ThreeD_style(image_input):\n",
    "    result = img_cartoon_3d(image_input)\n",
    "    image_output = result[OutputKeys.OUTPUT_IMG]/255 - 0.5\n",
    "    return image_output\n"
   ]
  },
  {
   "cell_type": "code",
   "execution_count": 23,
   "id": "cb565cd2-954d-4a92-9e58-a528ebf28a9a",
   "metadata": {
    "ExecutionIndicator": {
     "show": true
    },
    "execution": {
     "iopub.execute_input": "2023-08-15T13:40:15.675101Z",
     "iopub.status.busy": "2023-08-15T13:40:15.674785Z",
     "iopub.status.idle": "2023-08-15T13:40:15.677666Z",
     "shell.execute_reply": "2023-08-15T13:40:15.677193Z",
     "shell.execute_reply.started": "2023-08-15T13:40:15.675080Z"
    },
    "tags": []
   },
   "outputs": [
    {
     "name": "stderr",
     "output_type": "stream",
     "text": [
      "/opt/conda/lib/python3.8/site-packages/modelscope/models/cv/cartoon/mtcnn_pytorch/src/matlab_cp2tform.py:86: FutureWarning: `rcond` parameter will change to the default of machine precision times ``max(M, N)`` where M and N are the input matrix dimensions.\n",
      "To use the future default and silence this warning we advise to pass `rcond=None`, to keep using the old, explicitly pass `rcond=-1`.\n",
      "  r, _, _, _ = lstsq(X, U)\n"
     ]
    }
   ],
   "source": [
    "\n",
    "# img_path = '/mnt/workspace/me.jpg'\n",
    "# result = img_cartoon_3d(img_path)\n",
    "\n",
    "# cv2.imwrite('美体抠图3d_result.png', result[OutputKeys.OUTPUT_IMG])\n",
    "# result[OutputKeys.OUTPUT_IMG]/255 - 0.5"
   ]
  },
  {
   "cell_type": "code",
   "execution_count": 32,
   "id": "8a14df38-a6f2-47b3-bbc5-3da37911ae33",
   "metadata": {
    "ExecutionIndicator": {
     "show": false
    },
    "execution": {
     "iopub.execute_input": "2023-08-15T14:23:00.445035Z",
     "iopub.status.busy": "2023-08-15T14:23:00.444627Z",
     "iopub.status.idle": "2023-08-15T14:23:00.450299Z",
     "shell.execute_reply": "2023-08-15T14:23:00.449587Z",
     "shell.execute_reply.started": "2023-08-15T14:23:00.445011Z"
    },
    "tags": []
   },
   "outputs": [
    {
     "ename": "SyntaxError",
     "evalue": "unmatched ')' (576431176.py, line 16)",
     "output_type": "error",
     "traceback": [
      "\u001b[0;36m  Cell \u001b[0;32mIn[32], line 16\u001b[0;36m\u001b[0m\n\u001b[0;31m    image_output2 = gr.Image(shape=20,30))\u001b[0m\n\u001b[0m                                         ^\u001b[0m\n\u001b[0;31mSyntaxError\u001b[0m\u001b[0;31m:\u001b[0m unmatched ')'\n"
     ]
    }
   ],
   "source": [
    "with gr.Blocks(title='肖像生成卡通APP') as demo:\n",
    "    gr.Markdown(\n",
    "        \"\"\"\n",
    "        ## 由肖像生成卡通肖像\n",
    "        \n",
    "            + 手绘卡通\n",
    "            + 3D卡通   \n",
    "    \n",
    "        \"\"\")\n",
    "    with gr.Row():\n",
    "        image_input = gr.Image()\n",
    "        with gr.Tab(\"handdrawn_Style\"):\n",
    "            image_output1 = gr.Image(shape=(20,30))\n",
    "            image_button1 = gr.Button(\"一键生成手绘卡通\")\n",
    "        with gr.Tab(\"3D Style\"):\n",
    "            image_output2 = gr.Image(shape=(20,30))\n",
    "            image_button2 = gr.Button(\"一键生成3D卡通\")\n",
    "\n",
    "    image_button1.click(art_style, inputs=image_input, outputs=image_output1)\n",
    "    image_button2.click(ThreeD_style, inputs=image_input, outputs=image_output2)\n",
    "\n",
    "demo.launch( share=False,show_error=True)"
   ]
  },
  {
   "cell_type": "code",
   "execution_count": null,
   "id": "de307212-3b09-4cca-81f7-bb69f074b46c",
   "metadata": {},
   "outputs": [],
   "source": []
  }
 ],
 "metadata": {
  "kernelspec": {
   "display_name": "Python 3 (ipykernel)",
   "language": "python",
   "name": "python3"
  },
  "language_info": {
   "codemirror_mode": {
    "name": "ipython",
    "version": 3
   },
   "file_extension": ".py",
   "mimetype": "text/x-python",
   "name": "python",
   "nbconvert_exporter": "python",
   "pygments_lexer": "ipython3",
   "version": "3.8.16"
  }
 },
 "nbformat": 4,
 "nbformat_minor": 5
}
