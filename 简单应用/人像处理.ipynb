{
 "cells": [
  {
   "cell_type": "code",
   "execution_count": 1,
   "metadata": {
    "ExecutionIndicator": {
     "show": true
    },
    "editable": true,
    "execution": {
     "iopub.execute_input": "2023-08-11T06:00:25.722656Z",
     "iopub.status.busy": "2023-08-11T06:00:25.722300Z",
     "iopub.status.idle": "2023-08-11T06:00:27.598796Z",
     "shell.execute_reply": "2023-08-11T06:00:27.598180Z",
     "shell.execute_reply.started": "2023-08-11T06:00:25.722634Z"
    },
    "tags": []
   },
   "outputs": [
    {
     "name": "stderr",
     "output_type": "stream",
     "text": [
      "2023-08-11 14:00:27,068 - modelscope - INFO - PyTorch version 2.0.1+cpu Found.\n",
      "2023-08-11 14:00:27,071 - modelscope - INFO - Loading ast index from /mnt/workspace/.cache/modelscope/ast_indexer\n",
      "2023-08-11 14:00:27,071 - modelscope - INFO - No valid ast index found from /mnt/workspace/.cache/modelscope/ast_indexer, generating ast index from prebuilt!\n",
      "2023-08-11 14:00:27,118 - modelscope - INFO - Loading done! Current index file version is 1.8.1, with md5 7e951ed23488455ee03049952a2ff64b and a total number of 893 components indexed\n"
     ]
    }
   ],
   "source": [
    "import cv2\n",
    "from modelscope.outputs import OutputKeys\n",
    "from modelscope.pipelines import pipeline\n",
    "from modelscope.utils.constant import Tasks\n",
    "work_path = '/mnt/workspace/'"
   ]
  },
  {
   "cell_type": "code",
   "execution_count": null,
   "metadata": {
    "ExecutionIndicator": {
     "show": true
    },
    "editable": true,
    "tags": []
   },
   "outputs": [],
   "source": [
    "# 艺术卡通:\n",
    "# img_cartoon = pipeline(Tasks.image_portrait_stylization, \n",
    "#                        model='damo/cv_unet_person-image-cartoon_artstyle_compound-models')\n",
    "img_cartoon = pipeline(Tasks.image_portrait_stylization, \n",
    "                       model='damo/cv_unet_person-image-cartoon-artstyle_compound-models')\n",
    "# 图像本地路径\n",
    "#img_path = 'input.png'\n",
    "# 图像url链接\n",
    "# img_path = 'https://modelscope.oss-cn-beijing.aliyuncs.com/test/images/image_cartoon.png'\n",
    "img_path = r'/mnt/workspace/demos/me.jpg'\n",
    "result = img_cartoon(img_path)\n",
    "cv2.imwrite('result.png', result[OutputKeys.OUTPUT_IMG])\n",
    "print('finished!')"
   ]
  },
  {
   "cell_type": "code",
   "execution_count": null,
   "metadata": {
    "ExecutionIndicator": {
     "show": true
    },
    "tags": []
   },
   "outputs": [],
   "source": [
    "# 3d卡通\n",
    "img_cartoon = pipeline(Tasks.image_portrait_stylization, \n",
    "                       model='damo/cv_unet_person-image-cartoon-3d_compound-models', model_revision='v1.0.0')\n",
    "# 图像本地路径\n",
    "#img_path = 'input.png'\n",
    "# 图像url链接\n",
    "img_path = '/mnt/workspace/demos/抠图result.png'\n",
    "result = img_cartoon(img_path)\n",
    "\n",
    "cv2.imwrite('美体抠图3d_result.png', result[OutputKeys.OUTPUT_IMG])\n",
    "print('finished!')"
   ]
  },
  {
   "cell_type": "markdown",
   "metadata": {},
   "source": []
  },
  {
   "cell_type": "code",
   "execution_count": 3,
   "metadata": {
    "ExecutionIndicator": {
     "show": true
    },
    "execution": {
     "iopub.execute_input": "2023-08-11T06:02:30.139801Z",
     "iopub.status.busy": "2023-08-11T06:02:30.139452Z",
     "iopub.status.idle": "2023-08-11T06:02:32.218874Z",
     "shell.execute_reply": "2023-08-11T06:02:32.218355Z",
     "shell.execute_reply.started": "2023-08-11T06:02:30.139783Z"
    },
    "tags": []
   },
   "outputs": [
    {
     "name": "stderr",
     "output_type": "stream",
     "text": [
      "2023-08-11 14:02:30,429 - modelscope - INFO - Model revision not specified, use the latest revision: v1.0.0\n",
      "2023-08-11 14:02:30,650 - modelscope - INFO - initiate model from /mnt/workspace/.cache/modelscope/damo/cv_unet_image-matting\n",
      "2023-08-11 14:02:30,651 - modelscope - INFO - initiate model from location /mnt/workspace/.cache/modelscope/damo/cv_unet_image-matting.\n",
      "2023-08-11 14:02:30,654 - modelscope - WARNING - No preprocessor field found in cfg.\n",
      "2023-08-11 14:02:30,655 - modelscope - WARNING - No val key and type key found in preprocessor domain of configuration.json file.\n",
      "2023-08-11 14:02:30,655 - modelscope - WARNING - Cannot find available config to build preprocessor at mode inference, current config: {'model_dir': '/mnt/workspace/.cache/modelscope/damo/cv_unet_image-matting'}. trying to build by task and model information.\n",
      "2023-08-11 14:02:30,655 - modelscope - WARNING - Find task: portrait-matting, model type: None. Insufficient information to build preprocessor, skip building preprocessor\n",
      "2023-08-11 14:02:30,657 - modelscope - INFO - loading model from /mnt/workspace/.cache/modelscope/damo/cv_unet_image-matting/tf_graph.pb\n",
      "2023-08-11 14:02:30,927 - modelscope - INFO - load model done\n"
     ]
    },
    {
     "data": {
      "text/plain": [
       "True"
      ]
     },
     "execution_count": 3,
     "metadata": {},
     "output_type": "execute_result"
    }
   ],
   "source": [
    "# 抠图\n",
    "# import cv2\n",
    "# from modelscope.pipelines import pipeline\n",
    "# from modelscope.utils.constant import Tasks\n",
    "# from modelscope.outputs import OutputKeys\n",
    "\n",
    "portrait_matting = pipeline(Tasks.portrait_matting,model='damo/cv_unet_image-matting')\n",
    "result = portrait_matting('/mnt/workspace/wp.jpg')\n",
    "cv2.imwrite('抠图.png', result[OutputKeys.OUTPUT_IMG])"
   ]
  },
  {
   "cell_type": "markdown",
   "metadata": {},
   "source": [
    "## [基于光流的人体美型(FBBR)](https://modelscope.cn/models/damo/cv_flow-based-body-reshaping_damo/summary)\n",
    "给定一张单个人物图像（半身或全身），无需任何额外输入，端到端地实现对人物身体区域（肩部，腰部，腿部等）的自动化美型处理。相关论文发表在CVPR2022上。\n",
    "### 使用方式：\n",
    "\n",
    "直接推理，在任意真实人物图像上进行直接推理。\n",
    "### 使用范围:\n",
    "\n",
    "包含单个人物身体的图片，支持半身或全身，支持正面、侧面、坐姿等多种姿态，图像分辨率大于100x100，小于3000×3000。\n",
    "### 目标场景:\n",
    "\n",
    "需要进行身体美型的场景，如摄影后期，广告宣传等。\n",
    "### 如何使用\n",
    "在ModelScope框架上，提供输入图片，即可以通过简单的Pipeline调用来使用。"
   ]
  },
  {
   "cell_type": "code",
   "execution_count": 6,
   "metadata": {
    "execution": {
     "iopub.execute_input": "2023-08-11T06:07:17.170107Z",
     "iopub.status.busy": "2023-08-11T06:07:17.169735Z",
     "iopub.status.idle": "2023-08-11T06:07:49.095267Z",
     "shell.execute_reply": "2023-08-11T06:07:49.094690Z",
     "shell.execute_reply.started": "2023-08-11T06:07:17.170088Z"
    },
    "tags": []
   },
   "outputs": [
    {
     "name": "stderr",
     "output_type": "stream",
     "text": [
      "2023-08-11 14:07:17,652 - modelscope - INFO - Model revision not specified, use the latest revision: v1.0.0\n",
      "Downloading: 100%|██████████| 6.00k/6.00k [00:00<00:00, 3.50MB/s]\n",
      "Downloading: 100%|██████████| 6.00k/6.00k [00:00<00:00, 3.73MB/s]\n",
      "Downloading: 100%|██████████| 200M/200M [00:00<00:00, 264MB/s]  \n",
      "Downloading: 100%|██████████| 196/196 [00:00<00:00, 142kB/s]\n",
      "Downloading: 100%|██████████| 2.18M/2.18M [00:00<00:00, 11.5MB/s]\n",
      "Downloading: 100%|██████████| 197k/197k [00:00<00:00, 15.4MB/s]\n",
      "Downloading: 100%|██████████| 256M/256M [00:01<00:00, 188MB/s] \n",
      "Downloading: 100%|██████████| 4.29k/4.29k [00:00<00:00, 2.78MB/s]\n",
      "Downloading: 100%|██████████| 387/387 [00:00<00:00, 285kB/s]\n",
      "2023-08-11 14:07:37,429 - modelscope - INFO - initiate model from /mnt/workspace/.cache/modelscope/damo/cv_flow-based-body-reshaping_damo\n",
      "2023-08-11 14:07:37,429 - modelscope - INFO - initiate model from location /mnt/workspace/.cache/modelscope/damo/cv_flow-based-body-reshaping_damo.\n",
      "2023-08-11 14:07:37,430 - modelscope - INFO - initialize model from /mnt/workspace/.cache/modelscope/damo/cv_flow-based-body-reshaping_damo\n",
      "2023-08-11 14:07:38,548 - modelscope - INFO - load body reshaping model done\n",
      "2023-08-11 14:07:39,160 - modelscope - INFO - load pose model done\n",
      "2023-08-11 14:07:39,168 - modelscope - WARNING - No preprocessor field found in cfg.\n",
      "2023-08-11 14:07:39,168 - modelscope - WARNING - No val key and type key found in preprocessor domain of configuration.json file.\n",
      "2023-08-11 14:07:39,169 - modelscope - WARNING - Cannot find available config to build preprocessor at mode inference, current config: {'model_dir': '/mnt/workspace/.cache/modelscope/damo/cv_flow-based-body-reshaping_damo'}. trying to build by task and model information.\n",
      "2023-08-11 14:07:39,169 - modelscope - WARNING - No preprocessor key ('image-body-reshaping', 'image-body-reshaping') found in PREPROCESSOR_MAP, skip building preprocessor.\n",
      "2023-08-11 14:07:39,170 - modelscope - INFO - cuda is not available, using cpu instead.\n",
      "2023-08-11 14:07:39,170 - modelscope - INFO - body reshaping model init done\n",
      "2023-08-11 14:07:39,173 - modelscope - WARNING - task image-body-reshaping input definition is missing\n",
      "2023-08-11 14:07:48,989 - modelscope - INFO - model inference done\n"
     ]
    },
    {
     "name": "stdout",
     "output_type": "stream",
     "text": [
      "finished!\n"
     ]
    }
   ],
   "source": [
    "# 人体美型\n",
    "image_body_reshaping = pipeline(Tasks.image_body_reshaping, \n",
    "                       model='damo/cv_flow-based-body-reshaping_damo')\n",
    "image_path = work_path + \"抠图美肤.png\"\n",
    "result = image_body_reshaping(image_path)\n",
    "\n",
    "cv2.imwrite('美肤美体.png', result[OutputKeys.OUTPUT_IMG])\n",
    "print('finished!')"
   ]
  },
  {
   "cell_type": "markdown",
   "metadata": {},
   "source": [
    "## [ABPN人像美肤](https://modelscope.cn/models/damo/cv_unet_skin-retouching/summary)\n",
    "人像美肤模型可用于对图像中的人体皮肤进行处理，实现匀肤（处理痘印、肤色不均等）、去瑕疵（脂肪粒、斑点、痣等）以及美白等功能。模型仅对裸露的皮肤进行修饰美化，不影响其他区域。\n",
    "### 期望模型使用方式以及适用范围\n",
    "### 使用方式：\n",
    "\n",
    "直接推理，输入图像直接进行推理。\n",
    "### 使用范围:\n",
    "\n",
    "适用于包含人脸的人像照片，其中人脸分辨率大于100x100，图像整体分辨率小于5000x5000。\n",
    "目标场景:\n",
    "\n",
    "需要进行皮肤美化的场景，如摄影修图、图像直播等。\n",
    "### 如何使用\n",
    "本模型基于pytorch（匀肤、去瑕疵）、tensorflow（皮肤分割）进行训练和推理，在ModelScope框架上，提供输入图片，即可以通过简单的Pipeline调用来使用人像美肤模型。"
   ]
  },
  {
   "cell_type": "code",
   "execution_count": 5,
   "metadata": {
    "ExecutionIndicator": {
     "show": true
    },
    "execution": {
     "iopub.execute_input": "2023-08-11T06:04:18.181460Z",
     "iopub.status.busy": "2023-08-11T06:04:18.181097Z",
     "iopub.status.idle": "2023-08-11T06:05:42.356195Z",
     "shell.execute_reply": "2023-08-11T06:05:42.355608Z",
     "shell.execute_reply.started": "2023-08-11T06:04:18.181441Z"
    },
    "tags": []
   },
   "outputs": [
    {
     "name": "stderr",
     "output_type": "stream",
     "text": [
      "2023-08-11 14:04:18,547 - modelscope - INFO - Model revision not specified, use the latest revision: v1.0.0\n",
      "Downloading: 100%|██████████| 121k/121k [00:00<00:00, 6.11MB/s]\n",
      "Downloading: 100%|██████████| 136/136 [00:00<00:00, 99.7kB/s]\n",
      "Downloading: 100%|██████████| 146k/146k [00:00<00:00, 5.61MB/s]\n",
      "Downloading: 100%|██████████| 217M/217M [00:00<00:00, 287MB/s] \n",
      "Downloading: 100%|██████████| 51.2M/51.2M [00:01<00:00, 31.3MB/s]\n",
      "Downloading: 100%|██████████| 4.87k/4.87k [00:00<00:00, 3.59MB/s]\n",
      "Downloading: 100%|██████████| 104M/104M [00:00<00:00, 442MB/s] \n",
      "Downloading: 100%|██████████| 76.4k/76.4k [00:00<00:00, 12.6MB/s]\n",
      "Downloading: 100%|██████████| 82.0k/82.0k [00:00<00:00, 7.13MB/s]\n",
      "Downloading: 100%|██████████| 97.6M/97.6M [00:00<00:00, 392MB/s]\n",
      "2023-08-11 14:04:25,473 - modelscope - INFO - initiate model from /mnt/workspace/.cache/modelscope/damo/cv_unet_skin-retouching\n",
      "2023-08-11 14:04:25,474 - modelscope - INFO - initiate model from location /mnt/workspace/.cache/modelscope/damo/cv_unet_skin-retouching.\n",
      "2023-08-11 14:04:25,475 - modelscope - WARNING - No preprocessor field found in cfg.\n",
      "2023-08-11 14:04:25,475 - modelscope - WARNING - No val key and type key found in preprocessor domain of configuration.json file.\n",
      "2023-08-11 14:04:25,476 - modelscope - WARNING - Cannot find available config to build preprocessor at mode inference, current config: {'model_dir': '/mnt/workspace/.cache/modelscope/damo/cv_unet_skin-retouching'}. trying to build by task and model information.\n",
      "2023-08-11 14:04:25,476 - modelscope - WARNING - Find task: skin-retouching, model type: None. Insufficient information to build preprocessor, skip building preprocessor\n",
      "2023-08-11 14:04:25,477 - modelscope - INFO - cuda is not available, using cpu instead.\n",
      "2023-08-11 14:04:25,933 - modelscope - INFO - Model revision not specified, use the latest revision: v2.0.2\n",
      "Downloading: 100%|██████████| 509/509 [00:00<00:00, 388kB/s]\n",
      "Downloading: 100%|██████████| 104M/104M [00:03<00:00, 35.9MB/s] \n",
      "Downloading: 100%|██████████| 5.78k/5.78k [00:00<00:00, 3.99MB/s]\n",
      "Downloading: 100%|██████████| 980k/980k [00:00<00:00, 33.3MB/s]\n",
      "Downloading: 100%|██████████| 137k/137k [00:00<00:00, 7.59MB/s]\n",
      "2023-08-11 14:04:34,123 - modelscope - INFO - initiate model from /mnt/workspace/.cache/modelscope/damo/cv_resnet50_face-detection_retinaface\n",
      "2023-08-11 14:04:34,123 - modelscope - INFO - initiate model from location /mnt/workspace/.cache/modelscope/damo/cv_resnet50_face-detection_retinaface.\n",
      "2023-08-11 14:04:34,125 - modelscope - WARNING - No preprocessor field found in cfg.\n",
      "2023-08-11 14:04:34,125 - modelscope - WARNING - No val key and type key found in preprocessor domain of configuration.json file.\n",
      "2023-08-11 14:04:34,125 - modelscope - WARNING - Cannot find available config to build preprocessor at mode inference, current config: {'model_dir': '/mnt/workspace/.cache/modelscope/damo/cv_resnet50_face-detection_retinaface'}. trying to build by task and model information.\n",
      "2023-08-11 14:04:34,126 - modelscope - WARNING - Find task: face-detection, model type: None. Insufficient information to build preprocessor, skip building preprocessor\n",
      "2023-08-11 14:04:34,127 - modelscope - INFO - cuda is not available, using cpu instead.\n",
      "2023-08-11 14:04:34,127 - modelscope - INFO - loading model from /mnt/workspace/.cache/modelscope/damo/cv_resnet50_face-detection_retinaface/pytorch_model.pt\n",
      "2023-08-11 14:04:34,489 - modelscope - INFO - load model done\n"
     ]
    },
    {
     "name": "stdout",
     "output_type": "stream",
     "text": [
      "WARNING:tensorflow:From /opt/conda/lib/python3.8/site-packages/modelscope/pipelines/cv/skin_retouching_pipeline.py:89: The name tf.global_variables_initializer is deprecated. Please use tf.compat.v1.global_variables_initializer instead.\n",
      "\n"
     ]
    },
    {
     "data": {
      "text/plain": [
       "True"
      ]
     },
     "execution_count": 5,
     "metadata": {},
     "output_type": "execute_result"
    }
   ],
   "source": [
    "# 高清人像美肤\n",
    "\n",
    "skin_retouching = pipeline(Tasks.skin_retouching,model='damo/cv_unet_skin-retouching')\n",
    "result = skin_retouching(\"/mnt/workspace/抠图.png\")\n",
    "cv2.imwrite('抠图美肤.png', result[OutputKeys.OUTPUT_IMG])"
   ]
  },
  {
   "cell_type": "markdown",
   "metadata": {},
   "source": [
    "## [CSRNet图像调色](https://modelscope.cn/models/damo/cv_csrnet_image-color-enhance-models/summary)\n",
    "+ ### 模型描述\n",
    "该模型为图像调色模型，输入为待调色的图像，输出为调色后的图像。CSRNet通过计算全局调整参数并将之作用于条件网络得到的特征，保证效果的基础之上实现轻便高效的训练和推理。\n",
    "+ ### 期望模型使用方式以及适用范围\n",
    "适用于一般条件下拍摄得到的图像，可提升图像的色彩质感。\n",
    "\n",
    "+ ### 如何使用\n",
    "在ModelScope框架上，提供输入图片，即可通过简单的Pipeline调用来使用。"
   ]
  },
  {
   "cell_type": "code",
   "execution_count": 7,
   "metadata": {
    "execution": {
     "iopub.execute_input": "2023-08-11T06:11:24.813518Z",
     "iopub.status.busy": "2023-08-11T06:11:24.813174Z",
     "iopub.status.idle": "2023-08-11T06:11:29.857344Z",
     "shell.execute_reply": "2023-08-11T06:11:29.856814Z",
     "shell.execute_reply.started": "2023-08-11T06:11:24.813498Z"
    },
    "tags": []
   },
   "outputs": [
    {
     "name": "stderr",
     "output_type": "stream",
     "text": [
      "2023-08-11 14:11:25,228 - modelscope - INFO - Model revision not specified, use the latest revision: v1.0.0\n",
      "Downloading: 100%|██████████| 923k/923k [00:00<00:00, 46.0MB/s]\n",
      "Downloading: 100%|██████████| 1.23k/1.23k [00:00<00:00, 896kB/s]\n",
      "Downloading: 100%|██████████| 138k/138k [00:00<00:00, 7.45MB/s]\n",
      "Downloading: 100%|██████████| 301k/301k [00:00<00:00, 12.9MB/s]\n",
      "Downloading: 100%|██████████| 3.59k/3.59k [00:00<00:00, 2.62MB/s]\n",
      "2023-08-11 14:11:26,991 - modelscope - INFO - initiate model from /mnt/workspace/.cache/modelscope/damo/cv_csrnet_image-color-enhance-models\n",
      "2023-08-11 14:11:26,992 - modelscope - INFO - initiate model from location /mnt/workspace/.cache/modelscope/damo/cv_csrnet_image-color-enhance-models.\n",
      "2023-08-11 14:11:26,993 - modelscope - INFO - initialize model from /mnt/workspace/.cache/modelscope/damo/cv_csrnet_image-color-enhance-models\n",
      "2023-08-11 14:11:26,998 - modelscope - INFO - Loading CSRNet model from /mnt/workspace/.cache/modelscope/damo/cv_csrnet_image-color-enhance-models/pytorch_model.pt, with param key: [params].\n",
      "2023-08-11 14:11:27,005 - modelscope - INFO - load model done.\n",
      "2023-08-11 14:11:27,011 - modelscope - INFO - cuda is not available, using cpu instead.\n"
     ]
    },
    {
     "data": {
      "text/plain": [
       "True"
      ]
     },
     "execution_count": 7,
     "metadata": {},
     "output_type": "execute_result"
    }
   ],
   "source": [
    "# 图像调色模型，输入为待调色的图像，输出为调色后的图像。\n",
    "\n",
    "img = work_path + '美肤美体.png'\n",
    "image_color_enhance = pipeline(Tasks.image_color_enhancement, \n",
    "                               model='damo/cv_csrnet_image-color-enhance-models')\n",
    "result = image_color_enhance(img)\n",
    "cv2.imwrite('调色美肤美体.png', result[OutputKeys.OUTPUT_IMG])"
   ]
  },
  {
   "cell_type": "markdown",
   "metadata": {
    "tags": []
   },
   "source": [
    "## [基于语义关联关键点的虚拟试衣](https://modelscope.cn/models/damo/cv_SAL-VTON_virtual-try-on/summary)\n",
    "+ ### 如何使用\n",
    "在ModelScope框架上，提供人像图片、服饰平铺图、服饰分割图，得到虚拟试衣结果\n",
    "\n",
    "    + person_input_path 为人像图片\n",
    "    + garment_input_path 为服饰平铺图\n",
    "    + mask_input_path 为服饰分割图"
   ]
  },
  {
   "cell_type": "code",
   "execution_count": null,
   "metadata": {},
   "outputs": [],
   "source": [
    "#在ModelScope框架上，提供人像图片、服饰平铺图、服饰分割图，得到虚拟试衣结果\n",
    "\n",
    "sal_virtual_try_on = pipeline(Tasks.image_try_on, model='damo/cv_SAL-VTON_virtual-try-on')\n",
    "result_status = sal_virtual_try_on({'person_input_path': 'data/test/images/image_try_on_person.jpg',\n",
    "                                    'garment_input_path': 'data/test/images/image_try_on_garment.jpg',\n",
    "                                    'mask_input_path': 'data/test/images/image_try_on_mask.jpg'})\n",
    "result = result_status[OutputKeys.OUTPUT_IMG]"
   ]
  }
 ],
 "metadata": {
  "kernelspec": {
   "display_name": "Python 3 (ipykernel)",
   "language": "python",
   "name": "python3"
  },
  "language_info": {
   "codemirror_mode": {
    "name": "ipython",
    "version": 3
   },
   "file_extension": ".py",
   "mimetype": "text/x-python",
   "name": "python",
   "nbconvert_exporter": "python",
   "pygments_lexer": "ipython3",
   "version": "3.8.16"
  }
 },
 "nbformat": 4,
 "nbformat_minor": 4
}
