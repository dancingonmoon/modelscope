{
 "cells": [
  {
   "cell_type": "code",
   "execution_count": 1,
   "id": "423cb0e1-6674-4f2e-9659-d2adf3bb0261",
   "metadata": {
    "ExecutionIndicator": {
     "show": true
    },
    "execution": {
     "iopub.execute_input": "2023-11-24T03:47:14.676958Z",
     "iopub.status.busy": "2023-11-24T03:47:14.676624Z",
     "iopub.status.idle": "2023-11-24T03:47:16.728236Z",
     "shell.execute_reply": "2023-11-24T03:47:16.727601Z",
     "shell.execute_reply.started": "2023-11-24T03:47:14.676942Z"
    },
    "tags": []
   },
   "outputs": [
    {
     "name": "stderr",
     "output_type": "stream",
     "text": [
      "2023-11-24 11:47:16,253 - modelscope - INFO - PyTorch version 2.0.1+cpu Found.\n",
      "2023-11-24 11:47:16,255 - modelscope - INFO - TensorFlow version 2.13.0 Found.\n",
      "2023-11-24 11:47:16,255 - modelscope - INFO - Loading ast index from /mnt/workspace/.cache/modelscope/ast_indexer\n",
      "2023-11-24 11:47:16,289 - modelscope - INFO - Loading done! Current index file version is 1.9.5, with md5 79827826d04c54fc06982662c5095533 and a total number of 945 components indexed\n",
      "/opt/conda/lib/python3.8/site-packages/tqdm/auto.py:21: TqdmWarning: IProgress not found. Please update jupyter and ipywidgets. See https://ipywidgets.readthedocs.io/en/stable/user_install.html\n",
      "  from .autonotebook import tqdm as notebook_tqdm\n"
     ]
    }
   ],
   "source": [
    "from modelscope.pipelines import pipeline\n",
    "from modelscope.utils.constant import Tasks\n",
    "import numpy as np\n",
    "import cv2\n",
    "import math\n",
    "import os\n",
    "\n",
    "# 行识别:\n",
    "# DBNet行检测模型\n",
    "detect_dbnet_model='damo/cv_resnet18_ocr-detection-db-line-level_damo'\n",
    "# Seglink 行检测模型 模型依赖tensorflow1.15.x运行 \n",
    "detect_seglink_model='damo/cv_resnet18_ocr-detection-db-line-level_damo'\n",
    "# 行识别模型\n",
    "# 手写:\n",
    "recognize_hand_model='damo/cv_convnextTiny_ocr-recognition-handwritten_damo'\n",
    "# 文档\n",
    "recognize_doc_model='damo/cv_convnextTiny_ocr-recognition-document_damo'\n",
    "# 自然场景文本\n",
    "recognize_nature_model='damo/cv_convnextTiny_ocr-recognition-scene_damo'\n",
    "# 车牌\n",
    "recognize_plate_model='damo/cv_convnextTiny_ocr-recognition-licenseplate_damo'\n",
    "# 通用\n",
    "recognize_general_model='damo/cv_convnextTiny_ocr-recognition-general_damo'"
   ]
  },
  {
   "cell_type": "code",
   "execution_count": 2,
   "id": "4195d55c-6228-4638-bb14-a8f587b65a26",
   "metadata": {
    "execution": {
     "iopub.execute_input": "2023-11-24T03:47:25.108182Z",
     "iopub.status.busy": "2023-11-24T03:47:25.107555Z",
     "iopub.status.idle": "2023-11-24T03:47:25.119254Z",
     "shell.execute_reply": "2023-11-24T03:47:25.118763Z",
     "shell.execute_reply.started": "2023-11-24T03:47:25.108155Z"
    },
    "tags": []
   },
   "outputs": [],
   "source": [
    "# 选择模型函数:\n",
    "def mode_func(DBnet, scene, scenes):\n",
    "    \"\"\"\n",
    "    DBnet: 使用DBnet行识别,还是Seglink行识别 (Seglink模型依赖tensorflow1.15.x运行)\n",
    "    scene: 从列表['handwritings','documents','nature_scene','number_plate','general']选\n",
    "    scenes: 列表['handwritings','documents','nature_scene','number_plate','general']\n",
    "    \"\"\"\n",
    "    \n",
    "    # 选择 行检测模型:\n",
    "    if DBnet: #DBnet\n",
    "        detect_model = detect_dbnet_model\n",
    "    else: # Seglink 模型依赖tensorflow1.15.x运行\n",
    "        detect_model = detect_seglink_model\n",
    "    \n",
    "    # 选择 行识别模型:\n",
    "    if scene == scenes[0] or scene == 0:\n",
    "        recognize_model = recognize_hand_model\n",
    "    elif scene == scenes[1] or scene == 1:\n",
    "        recognize_model = recognize_doc_model\n",
    "    elif scene == scenes[2] or scene == 2:\n",
    "        recognize_model = recognize_nature_model\n",
    "    elif scene == scenes[3] or scene == 3:\n",
    "        recognize_model = recognize_plate_model\n",
    "    else:\n",
    "        recognize_model = recognize_general_model\n",
    "        \n",
    "    return detect_model, recognize_model\n",
    "\n",
    "# scripts for crop images\n",
    "def crop_image(img, position):\n",
    "    def distance(x1,y1,x2,y2):\n",
    "        return math.sqrt(pow(x1 - x2, 2) + pow(y1 - y2, 2))    \n",
    "    position = position.tolist()\n",
    "    for i in range(4):\n",
    "        for j in range(i+1, 4):\n",
    "            if(position[i][0] > position[j][0]):\n",
    "                tmp = position[j]\n",
    "                position[j] = position[i]\n",
    "                position[i] = tmp\n",
    "    if position[0][1] > position[1][1]:\n",
    "        tmp = position[0]\n",
    "        position[0] = position[1]\n",
    "        position[1] = tmp\n",
    "\n",
    "    if position[2][1] > position[3][1]:\n",
    "        tmp = position[2]\n",
    "        position[2] = position[3]\n",
    "        position[3] = tmp\n",
    "\n",
    "    x1, y1 = position[0][0], position[0][1]\n",
    "    x2, y2 = position[2][0], position[2][1]\n",
    "    x3, y3 = position[3][0], position[3][1]\n",
    "    x4, y4 = position[1][0], position[1][1]\n",
    "\n",
    "    corners = np.zeros((4,2), np.float32)\n",
    "    corners[0] = [x1, y1]\n",
    "    corners[1] = [x2, y2]\n",
    "    corners[2] = [x4, y4]\n",
    "    corners[3] = [x3, y3]\n",
    "\n",
    "    img_width = distance((x1+x4)/2, (y1+y4)/2, (x2+x3)/2, (y2+y3)/2)\n",
    "    img_height = distance((x1+x2)/2, (y1+y2)/2, (x4+x3)/2, (y4+y3)/2)\n",
    "\n",
    "    corners_trans = np.zeros((4,2), np.float32)\n",
    "    corners_trans[0] = [0, 0]\n",
    "    corners_trans[1] = [img_width - 1, 0]\n",
    "    corners_trans[2] = [0, img_height - 1]\n",
    "    corners_trans[3] = [img_width - 1, img_height - 1]\n",
    "\n",
    "    transform = cv2.getPerspectiveTransform(corners, corners_trans)\n",
    "    dst = cv2.warpPerspective(img, transform, (int(img_width), int(img_height)))\n",
    "    return dst\n",
    "\n",
    "def order_point(coor):\n",
    "    arr = np.array(coor).reshape([4, 2])\n",
    "    sum_ = np.sum(arr, 0)\n",
    "    centroid = sum_ / arr.shape[0]\n",
    "    theta = np.arctan2(arr[:, 1] - centroid[1], arr[:, 0] - centroid[0])\n",
    "    sort_points = arr[np.argsort(theta)]\n",
    "    sort_points = sort_points.reshape([4, -1])\n",
    "    if sort_points[0][0] > centroid[0]:\n",
    "        sort_points = np.concatenate([sort_points[3:], sort_points[:3]])\n",
    "    sort_points = sort_points.reshape([4, 2]).astype('float32')\n",
    "    return sort_points"
   ]
  },
  {
   "cell_type": "code",
   "execution_count": 3,
   "id": "81ab87d3-ca52-499e-a344-b3cdd9dda7b7",
   "metadata": {
    "ExecutionIndicator": {
     "show": true
    },
    "execution": {
     "iopub.execute_input": "2023-11-24T03:47:30.732401Z",
     "iopub.status.busy": "2023-11-24T03:47:30.731761Z",
     "iopub.status.idle": "2023-11-24T03:47:41.510069Z",
     "shell.execute_reply": "2023-11-24T03:47:41.509534Z",
     "shell.execute_reply.started": "2023-11-24T03:47:30.732379Z"
    },
    "tags": []
   },
   "outputs": [
    {
     "name": "stderr",
     "output_type": "stream",
     "text": [
      "2023-11-24 11:47:31,708 - modelscope - WARNING - Model revision not specified, use revision: v1.3.0\n",
      "2023-11-24 11:47:32.878498: I tensorflow/core/util/port.cc:110] oneDNN custom operations are on. You may see slightly different numerical results due to floating-point round-off errors from different computation orders. To turn them off, set the environment variable `TF_ENABLE_ONEDNN_OPTS=0`.\n",
      "2023-11-24 11:47:32.880184: I tensorflow/tsl/cuda/cudart_stub.cc:28] Could not find cuda drivers on your machine, GPU will not be used.\n",
      "2023-11-24 11:47:32.922719: I tensorflow/tsl/cuda/cudart_stub.cc:28] Could not find cuda drivers on your machine, GPU will not be used.\n",
      "2023-11-24 11:47:32.923649: I tensorflow/core/platform/cpu_feature_guard.cc:182] This TensorFlow binary is optimized to use available CPU instructions in performance-critical operations.\n",
      "To enable the following instructions: AVX2 AVX512F AVX512_VNNI FMA, in other operations, rebuild TensorFlow with the appropriate compiler flags.\n",
      "2023-11-24 11:47:33.518137: W tensorflow/compiler/tf2tensorrt/utils/py_utils.cc:38] TF-TRT Warning: Could not find TensorRT\n",
      "2023-11-24 11:47:34,427 - modelscope - INFO - initiate model from /mnt/workspace/.cache/modelscope/damo/cv_resnet18_ocr-detection-db-line-level_damo\n",
      "2023-11-24 11:47:34,428 - modelscope - INFO - initiate model from location /mnt/workspace/.cache/modelscope/damo/cv_resnet18_ocr-detection-db-line-level_damo.\n",
      "2023-11-24 11:47:34,429 - modelscope - INFO - initialize model from /mnt/workspace/.cache/modelscope/damo/cv_resnet18_ocr-detection-db-line-level_damo\n",
      "2023-11-24 11:47:34,792 - modelscope - INFO - cuda is not available, using cpu instead.\n",
      "2023-11-24 11:47:34,794 - modelscope - INFO - loading model from dir /mnt/workspace/.cache/modelscope/damo/cv_resnet18_ocr-detection-db-line-level_damo\n",
      "2023-11-24 11:47:34,800 - modelscope - INFO - loading model done\n",
      "2023-11-24 11:47:35,795 - modelscope - WARNING - Model revision not specified, use revision: v2.4.0\n",
      "2023-11-24 11:47:36,030 - modelscope - INFO - initiate model from /mnt/workspace/.cache/modelscope/damo/cv_convnextTiny_ocr-recognition-document_damo\n",
      "2023-11-24 11:47:36,031 - modelscope - INFO - initiate model from location /mnt/workspace/.cache/modelscope/damo/cv_convnextTiny_ocr-recognition-document_damo.\n",
      "2023-11-24 11:47:36,031 - modelscope - INFO - initialize model from /mnt/workspace/.cache/modelscope/damo/cv_convnextTiny_ocr-recognition-document_damo\n",
      "2023-11-24 11:47:41,498 - modelscope - INFO - cuda is not available, using cpu instead.\n",
      "2023-11-24 11:47:41,503 - modelscope - INFO - loading model from dir /mnt/workspace/.cache/modelscope/damo/cv_convnextTiny_ocr-recognition-document_damo\n",
      "2023-11-24 11:47:41,507 - modelscope - INFO - loading model done\n"
     ]
    }
   ],
   "source": [
    "img_path_list = ['Letter of intent_页面_1.jpg','Letter of intent_页面_2.jpg','Letter of intent_页面_3.jpg']\n",
    "txt_out_path = \"Letter of intent.txt\"\n",
    "\n",
    "DBnet = True\n",
    "scenes = ['handwritings','documents','nature_scene','number_plate','general']\n",
    "scene = 1\n",
    "\n",
    "detect_model, recognize_model = mode_func(DBnet, scene, scenes)\n",
    "# 串联文本检测和文本识别模型，以实现完整的OCR功能，\n",
    "ocr_detection = pipeline(Tasks.ocr_detection, model=detect_model)\n",
    "ocr_recognition = pipeline(Tasks.ocr_recognition, model=recognize_model)"
   ]
  },
  {
   "cell_type": "code",
   "execution_count": null,
   "id": "f24a5c6d-56f3-428a-9709-264ea91e404b",
   "metadata": {
    "ExecutionIndicator": {
     "show": true
    },
    "execution": {
     "iopub.execute_input": "2023-11-24T03:47:45.380459Z",
     "iopub.status.busy": "2023-11-24T03:47:45.379947Z"
    },
    "scrolled": true,
    "tags": []
   },
   "outputs": [
    {
     "name": "stdout",
     "output_type": "stream",
     "text": [
      "Letter of intent_页面_1.jpg/line0: ['m']\n",
      "Letter of intent_页面_1.jpg/line1: ['3. The target products will use local branding.']\n",
      "Letter of intent_页面_1.jpg/line2: ['frequency band.']\n",
      "Letter of intent_页面_1.jpg/line3: ['products in the frequency band used in the Russian market including the 160MHz']\n",
      "Letter of intent_页面_1.jpg/line4: ['2. The target products will be the wireless trunking system equipment and handset']\n",
      "Letter of intent_页面_1.jpg/line5: ['under a licensing agreement to be agreed upon by the Parties.']\n",
      "Letter of intent_页面_1.jpg/line6: ['maintenance of the wireless trunking system and handset products to JSC MRZ']\n",
      "Letter of intent_页面_1.jpg/line7: ['1. Eastcom will license the know-how for the manufacturing, testing, servicing and']\n",
      "Letter of intent_页面_1.jpg/line8: ['contained below, the Parties hereto agree as follows:']\n",
      "Letter of intent_页面_1.jpg/line9: ['NOW, THEREFORE, in consideration of the mutual premises and the covenants']\n",
      "Letter of intent_页面_1.jpg/line10: ['equipment and handset products in the frequency bands used in the Russia market.']\n",
      "Letter of intent_页面_1.jpg/line11: ['manufacturing, testing, servicing and maintenance of the wireless trunking system']\n"
     ]
    }
   ],
   "source": [
    "%%time\n",
    "\n",
    "# 串联文本检测和文本识别模型，以实现完整的OCR功能，\n",
    "# 输出的文本列表 txt \n",
    "txt_list = []\n",
    "\n",
    "for img_path in img_path_list:\n",
    "    if os.path.exists(img_path):\n",
    "        image_full = cv2.imread(img_path)\n",
    "        det_result = ocr_detection(image_full)\n",
    "        det_result = det_result['polygons'] \n",
    "        for i in range(det_result.shape[0]):\n",
    "            pts = order_point(det_result[i]) \n",
    "            image_crop = crop_image(image_full, pts) # 获得切割后的文字行\n",
    "            result = ocr_recognition(image_crop)\n",
    "            # print(\"box: %s\" % ','.join([str(e) for e in list(pts.reshape(-1))]))\n",
    "            print(f\"{img_path}/line{i}: {result['text']}\")\n",
    "            line_txt = result['text'] # 输出是列表\n",
    "            txt_list += line_txt\n",
    "    else:\n",
    "        print(f\"{img_path},文件不存在.\")\n",
    "\n",
    "# 输出文本至文件:\n",
    "if DBnet:\n",
    "    txt_list = txt_list[::-1] #倒序,因为DBnet是倒序的\n",
    "with open(txt_out_path, 'w') as file:\n",
    "    for text in txt_list: \n",
    "        file.write(text + '\\n')"
   ]
  }
 ],
 "metadata": {
  "kernelspec": {
   "display_name": "Python 3 (ipykernel)",
   "language": "python",
   "name": "python3"
  },
  "language_info": {
   "codemirror_mode": {
    "name": "ipython",
    "version": 3
   },
   "file_extension": ".py",
   "mimetype": "text/x-python",
   "name": "python",
   "nbconvert_exporter": "python",
   "pygments_lexer": "ipython3",
   "version": "3.8.16"
  }
 },
 "nbformat": 4,
 "nbformat_minor": 5
}
