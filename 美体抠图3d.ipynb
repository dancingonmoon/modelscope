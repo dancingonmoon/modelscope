{
 "cells": [
  {
   "cell_type": "code",
   "execution_count": 23,
   "metadata": {
    "ExecutionIndicator": {
     "show": true
    },
    "editable": true,
    "execution": {
     "iopub.execute_input": "2023-08-11T02:35:37.400885Z",
     "iopub.status.busy": "2023-08-11T02:35:37.400493Z",
     "iopub.status.idle": "2023-08-11T02:35:37.403964Z",
     "shell.execute_reply": "2023-08-11T02:35:37.403427Z",
     "shell.execute_reply.started": "2023-08-11T02:35:37.400867Z"
    },
    "tags": []
   },
   "outputs": [],
   "source": [
    "import cv2\n",
    "from modelscope.outputs import OutputKeys\n",
    "from modelscope.pipelines import pipeline\n",
    "from modelscope.utils.constant import Tasks\n",
    "work_path = '/mnt/workspace/'"
   ]
  },
  {
   "cell_type": "code",
   "execution_count": 15,
   "metadata": {
    "ExecutionIndicator": {
     "show": true
    },
    "editable": true,
    "execution": {
     "iopub.execute_input": "2023-08-11T01:57:33.908908Z",
     "iopub.status.busy": "2023-08-11T01:57:33.908573Z",
     "iopub.status.idle": "2023-08-11T01:57:38.257445Z",
     "shell.execute_reply": "2023-08-11T01:57:38.256859Z",
     "shell.execute_reply.started": "2023-08-11T01:57:33.908891Z"
    },
    "tags": []
   },
   "outputs": [
    {
     "name": "stderr",
     "output_type": "stream",
     "text": [
      "2023-08-11 09:57:34,312 - modelscope - INFO - Model revision not specified, use the latest revision: v1.0.1\n",
      "2023-08-11 09:57:36,536 - modelscope - INFO - initiate model from /mnt/workspace/.cache/modelscope/damo/cv_unet_person-image-cartoon-artstyle_compound-models\n",
      "2023-08-11 09:57:36,537 - modelscope - INFO - initiate model from location /mnt/workspace/.cache/modelscope/damo/cv_unet_person-image-cartoon-artstyle_compound-models.\n",
      "2023-08-11 09:57:36,538 - modelscope - WARNING - No preprocessor field found in cfg.\n",
      "2023-08-11 09:57:36,538 - modelscope - WARNING - No val key and type key found in preprocessor domain of configuration.json file.\n",
      "2023-08-11 09:57:36,539 - modelscope - WARNING - Cannot find available config to build preprocessor at mode inference, current config: {'model_dir': '/mnt/workspace/.cache/modelscope/damo/cv_unet_person-image-cartoon-artstyle_compound-models'}. trying to build by task and model information.\n",
      "2023-08-11 09:57:36,539 - modelscope - WARNING - Find task: image-portrait-stylization, model type: None. Insufficient information to build preprocessor, skip building preprocessor\n",
      "2023-08-11 09:57:36,778 - modelscope - INFO - loading model from /mnt/workspace/.cache/modelscope/damo/cv_unet_person-image-cartoon-artstyle_compound-models/cartoon_h.pb\n",
      "2023-08-11 09:57:36,805 - modelscope - INFO - load model /mnt/workspace/.cache/modelscope/damo/cv_unet_person-image-cartoon-artstyle_compound-models/cartoon_h.pb done.\n",
      "2023-08-11 09:57:36,806 - modelscope - INFO - loading model from /mnt/workspace/.cache/modelscope/damo/cv_unet_person-image-cartoon-artstyle_compound-models/cartoon_bg.pb\n",
      "2023-08-11 09:57:36,836 - modelscope - INFO - load model /mnt/workspace/.cache/modelscope/damo/cv_unet_person-image-cartoon-artstyle_compound-models/cartoon_bg.pb done.\n"
     ]
    },
    {
     "name": "stdout",
     "output_type": "stream",
     "text": [
      "finished!\n"
     ]
    }
   ],
   "source": [
    "# img_cartoon = pipeline(Tasks.image_portrait_stylization, \n",
    "#                        model='damo/cv_unet_person-image-cartoon_artstyle_compound-models')\n",
    "img_cartoon = pipeline(Tasks.image_portrait_stylization, \n",
    "                       model='damo/cv_unet_person-image-cartoon-artstyle_compound-models')\n",
    "# 图像本地路径\n",
    "#img_path = 'input.png'\n",
    "# 图像url链接\n",
    "# img_path = 'https://modelscope.oss-cn-beijing.aliyuncs.com/test/images/image_cartoon.png'\n",
    "img_path = r'/mnt/workspace/demos/me.jpg'\n",
    "result = img_cartoon(img_path)\n",
    "cv2.imwrite('result.png', result[OutputKeys.OUTPUT_IMG])\n",
    "print('finished!')"
   ]
  },
  {
   "cell_type": "code",
   "execution_count": 27,
   "metadata": {
    "ExecutionIndicator": {
     "show": true
    },
    "execution": {
     "iopub.execute_input": "2023-08-11T02:44:02.301273Z",
     "iopub.status.busy": "2023-08-11T02:44:02.300929Z",
     "iopub.status.idle": "2023-08-11T02:44:05.936265Z",
     "shell.execute_reply": "2023-08-11T02:44:05.935697Z",
     "shell.execute_reply.started": "2023-08-11T02:44:02.301252Z"
    },
    "tags": []
   },
   "outputs": [
    {
     "name": "stderr",
     "output_type": "stream",
     "text": [
      "2023-08-11 10:44:02,667 - modelscope - INFO - Use user-specified model revision: v1.0.0\n",
      "2023-08-11 10:44:03,000 - modelscope - INFO - initiate model from /mnt/workspace/.cache/modelscope/damo/cv_unet_person-image-cartoon-3d_compound-models\n",
      "2023-08-11 10:44:03,000 - modelscope - INFO - initiate model from location /mnt/workspace/.cache/modelscope/damo/cv_unet_person-image-cartoon-3d_compound-models.\n",
      "2023-08-11 10:44:03,002 - modelscope - WARNING - No preprocessor field found in cfg.\n",
      "2023-08-11 10:44:03,002 - modelscope - WARNING - No val key and type key found in preprocessor domain of configuration.json file.\n",
      "2023-08-11 10:44:03,002 - modelscope - WARNING - Cannot find available config to build preprocessor at mode inference, current config: {'model_dir': '/mnt/workspace/.cache/modelscope/damo/cv_unet_person-image-cartoon-3d_compound-models'}. trying to build by task and model information.\n",
      "2023-08-11 10:44:03,003 - modelscope - WARNING - Find task: image-portrait-stylization, model type: None. Insufficient information to build preprocessor, skip building preprocessor\n",
      "2023-08-11 10:44:03,579 - modelscope - INFO - loading model from /mnt/workspace/.cache/modelscope/damo/cv_unet_person-image-cartoon-3d_compound-models/cartoon_h.pb\n",
      "2023-08-11 10:44:03,610 - modelscope - INFO - load model /mnt/workspace/.cache/modelscope/damo/cv_unet_person-image-cartoon-3d_compound-models/cartoon_h.pb done.\n",
      "2023-08-11 10:44:03,611 - modelscope - INFO - loading model from /mnt/workspace/.cache/modelscope/damo/cv_unet_person-image-cartoon-3d_compound-models/cartoon_bg.pb\n",
      "2023-08-11 10:44:03,647 - modelscope - INFO - load model /mnt/workspace/.cache/modelscope/damo/cv_unet_person-image-cartoon-3d_compound-models/cartoon_bg.pb done.\n"
     ]
    },
    {
     "name": "stdout",
     "output_type": "stream",
     "text": [
      "finished!\n"
     ]
    }
   ],
   "source": [
    "# 3d卡通\n",
    "img_cartoon = pipeline(Tasks.image_portrait_stylization, \n",
    "                       model='damo/cv_unet_person-image-cartoon-3d_compound-models', model_revision='v1.0.0')\n",
    "# 图像本地路径\n",
    "#img_path = 'input.png'\n",
    "# 图像url链接\n",
    "img_path = '/mnt/workspace/demos/抠图result.png'\n",
    "result = img_cartoon(img_path)\n",
    "\n",
    "cv2.imwrite('美体抠图3d_result.png', result[OutputKeys.OUTPUT_IMG])\n",
    "print('finished!')"
   ]
  },
  {
   "cell_type": "code",
   "execution_count": 28,
   "metadata": {
    "ExecutionIndicator": {
     "show": true
    },
    "execution": {
     "iopub.execute_input": "2023-08-11T02:45:22.521418Z",
     "iopub.status.busy": "2023-08-11T02:45:22.520844Z",
     "iopub.status.idle": "2023-08-11T02:45:25.591598Z",
     "shell.execute_reply": "2023-08-11T02:45:25.591028Z",
     "shell.execute_reply.started": "2023-08-11T02:45:22.521399Z"
    },
    "tags": []
   },
   "outputs": [
    {
     "name": "stderr",
     "output_type": "stream",
     "text": [
      "2023-08-11 10:45:22,818 - modelscope - INFO - Model revision not specified, use the latest revision: v1.0.0\n",
      "2023-08-11 10:45:23,170 - modelscope - INFO - initiate model from /mnt/workspace/.cache/modelscope/damo/cv_unet_image-matting\n",
      "2023-08-11 10:45:23,171 - modelscope - INFO - initiate model from location /mnt/workspace/.cache/modelscope/damo/cv_unet_image-matting.\n",
      "2023-08-11 10:45:23,172 - modelscope - WARNING - No preprocessor field found in cfg.\n",
      "2023-08-11 10:45:23,173 - modelscope - WARNING - No val key and type key found in preprocessor domain of configuration.json file.\n",
      "2023-08-11 10:45:23,173 - modelscope - WARNING - Cannot find available config to build preprocessor at mode inference, current config: {'model_dir': '/mnt/workspace/.cache/modelscope/damo/cv_unet_image-matting'}. trying to build by task and model information.\n",
      "2023-08-11 10:45:23,173 - modelscope - WARNING - Find task: portrait-matting, model type: None. Insufficient information to build preprocessor, skip building preprocessor\n",
      "2023-08-11 10:45:23,175 - modelscope - INFO - loading model from /mnt/workspace/.cache/modelscope/damo/cv_unet_image-matting/tf_graph.pb\n",
      "2023-08-11 10:45:23,436 - modelscope - INFO - load model done\n"
     ]
    },
    {
     "data": {
      "text/plain": [
       "True"
      ]
     },
     "execution_count": 28,
     "metadata": {},
     "output_type": "execute_result"
    }
   ],
   "source": [
    "# 抠图\n",
    "# import cv2\n",
    "# from modelscope.pipelines import pipeline\n",
    "# from modelscope.utils.constant import Tasks\n",
    "# from modelscope.outputs import OutputKeys\n",
    "\n",
    "portrait_matting = pipeline(Tasks.portrait_matting,model='damo/cv_unet_image-matting')\n",
    "result = portrait_matting('/mnt/workspace/demos/美体抠图3d_result.png')\n",
    "cv2.imwrite('美体抠图3d_result2.png', result[OutputKeys.OUTPUT_IMG])"
   ]
  },
  {
   "cell_type": "code",
   "execution_count": 24,
   "metadata": {
    "execution": {
     "iopub.execute_input": "2023-08-11T02:36:35.439652Z",
     "iopub.status.busy": "2023-08-11T02:36:35.439291Z",
     "iopub.status.idle": "2023-08-11T02:37:00.595133Z",
     "shell.execute_reply": "2023-08-11T02:37:00.594573Z",
     "shell.execute_reply.started": "2023-08-11T02:36:35.439629Z"
    },
    "tags": []
   },
   "outputs": [
    {
     "name": "stderr",
     "output_type": "stream",
     "text": [
      "2023-08-11 10:36:35,987 - modelscope - INFO - Model revision not specified, use the latest revision: v1.0.0\n",
      "Downloading: 100%|██████████| 6.00k/6.00k [00:00<00:00, 3.69MB/s]\n",
      "Downloading: 100%|██████████| 6.00k/6.00k [00:00<00:00, 3.60MB/s]\n",
      "Downloading: 100%|██████████| 200M/200M [00:01<00:00, 120MB/s]  \n",
      "Downloading: 100%|██████████| 196/196 [00:00<00:00, 127kB/s]\n",
      "Downloading: 100%|██████████| 2.18M/2.18M [00:00<00:00, 34.7MB/s]\n",
      "Downloading: 100%|██████████| 197k/197k [00:00<00:00, 16.5MB/s]\n",
      "Downloading: 100%|██████████| 256M/256M [00:01<00:00, 186MB/s] \n",
      "Downloading: 100%|██████████| 4.29k/4.29k [00:00<00:00, 2.57MB/s]\n",
      "Downloading: 100%|██████████| 387/387 [00:00<00:00, 261kB/s]\n",
      "2023-08-11 10:36:55,901 - modelscope - INFO - initiate model from /mnt/workspace/.cache/modelscope/damo/cv_flow-based-body-reshaping_damo\n",
      "2023-08-11 10:36:55,902 - modelscope - INFO - initiate model from location /mnt/workspace/.cache/modelscope/damo/cv_flow-based-body-reshaping_damo.\n",
      "2023-08-11 10:36:55,903 - modelscope - INFO - initialize model from /mnt/workspace/.cache/modelscope/damo/cv_flow-based-body-reshaping_damo\n",
      "2023-08-11 10:36:56,386 - modelscope - INFO - load body reshaping model done\n",
      "2023-08-11 10:36:56,883 - modelscope - INFO - load pose model done\n",
      "2023-08-11 10:36:56,970 - modelscope - WARNING - No preprocessor field found in cfg.\n",
      "2023-08-11 10:36:56,970 - modelscope - WARNING - No val key and type key found in preprocessor domain of configuration.json file.\n",
      "2023-08-11 10:36:56,971 - modelscope - WARNING - Cannot find available config to build preprocessor at mode inference, current config: {'model_dir': '/mnt/workspace/.cache/modelscope/damo/cv_flow-based-body-reshaping_damo'}. trying to build by task and model information.\n",
      "2023-08-11 10:36:56,971 - modelscope - WARNING - No preprocessor key ('image-body-reshaping', 'image-body-reshaping') found in PREPROCESSOR_MAP, skip building preprocessor.\n",
      "2023-08-11 10:36:56,972 - modelscope - INFO - cuda is not available, using cpu instead.\n",
      "2023-08-11 10:36:56,972 - modelscope - INFO - body reshaping model init done\n",
      "2023-08-11 10:36:56,974 - modelscope - WARNING - task image-body-reshaping input definition is missing\n",
      "/opt/conda/lib/python3.8/site-packages/torch/functional.py:504: UserWarning: torch.meshgrid: in an upcoming release, it will be required to pass the indexing argument. (Triggered internally at ../aten/src/ATen/native/TensorShape.cpp:3483.)\n",
      "  return _VF.meshgrid(tensors, **kwargs)  # type: ignore[attr-defined]\n",
      "/opt/conda/lib/python3.8/site-packages/torch/nn/functional.py:4236: UserWarning: Default grid_sample and affine_grid behavior has changed to align_corners=False since 1.3.0. Please specify align_corners=True if the old behavior is desired. See the documentation of grid_sample for details.\n",
      "  warnings.warn(\n",
      "2023-08-11 10:37:00,126 - modelscope - INFO - model inference done\n"
     ]
    },
    {
     "name": "stdout",
     "output_type": "stream",
     "text": [
      "finished!\n"
     ]
    }
   ],
   "source": [
    "# 人体美型\n",
    "image_body_reshaping = pipeline(Tasks.image_body_reshaping, \n",
    "                       model='damo/cv_flow-based-body-reshaping_damo')\n",
    "image_path = work_path + \"demos/IMG_6298.JPG\"\n",
    "result = image_body_reshaping(image_path)\n",
    "\n",
    "cv2.imwrite('美体result.png', result[OutputKeys.OUTPUT_IMG])\n",
    "print('finished!')"
   ]
  }
 ],
 "metadata": {
  "kernelspec": {
   "display_name": "Python 3 (ipykernel)",
   "language": "python",
   "name": "python3"
  },
  "language_info": {
   "codemirror_mode": {
    "name": "ipython",
    "version": 3
   },
   "file_extension": ".py",
   "mimetype": "text/x-python",
   "name": "python",
   "nbconvert_exporter": "python",
   "pygments_lexer": "ipython3",
   "version": "3.8.16"
  }
 },
 "nbformat": 4,
 "nbformat_minor": 4
}
