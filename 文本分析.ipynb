{
 "cells": [
  {
   "cell_type": "code",
   "execution_count": 3,
   "id": "282d648e-b9d6-4157-81f6-83d3b0fcef05",
   "metadata": {
    "ExecutionIndicator": {
     "show": true
    },
    "execution": {
     "iopub.execute_input": "2023-08-15T07:45:00.476447Z",
     "iopub.status.busy": "2023-08-15T07:45:00.476089Z",
     "iopub.status.idle": "2023-08-15T07:45:14.270514Z",
     "shell.execute_reply": "2023-08-15T07:45:14.270026Z",
     "shell.execute_reply.started": "2023-08-15T07:45:00.476428Z"
    },
    "tags": []
   },
   "outputs": [
    {
     "name": "stderr",
     "output_type": "stream",
     "text": [
      "2023-08-15 15:45:00,956 - modelscope - INFO - Use user-specified model revision: v1.0.0\n",
      "Downloading: 100%|██████████| 1.03k/1.03k [00:00<00:00, 141kB/s]\n",
      "Downloading: 100%|██████████| 1.57k/1.57k [00:00<00:00, 252kB/s]\n",
      "Downloading: 100%|██████████| 22.9k/22.9k [00:00<00:00, 13.7MB/s]\n",
      "Downloading: 100%|██████████| 1.21G/1.21G [00:02<00:00, 464MB/s] \n",
      "Downloading: 100%|██████████| 2.95k/2.95k [00:00<00:00, 1.71MB/s]\n",
      "Downloading: 100%|██████████| 107k/107k [00:00<00:00, 16.1MB/s]\n",
      "2023-08-15 15:45:06,831 - modelscope - INFO - initiate model from /mnt/workspace/.cache/modelscope/damo/nlp_structbert_emotion-classification_chinese-large\n",
      "2023-08-15 15:45:06,832 - modelscope - INFO - initiate model from location /mnt/workspace/.cache/modelscope/damo/nlp_structbert_emotion-classification_chinese-large.\n",
      "2023-08-15 15:45:06,833 - modelscope - INFO - initialize model from /mnt/workspace/.cache/modelscope/damo/nlp_structbert_emotion-classification_chinese-large\n"
     ]
    },
    {
     "name": "stdout",
     "output_type": "stream",
     "text": [
      "[2023-08-15 15:45:08,225] [INFO] [real_accelerator.py:133:get_accelerator] Setting ds_accelerator to cuda (auto detect)\n",
      "WARNING:tensorflow:Deprecation warnings have been disabled. Set TF_ENABLE_DEPRECATION_WARNINGS=1 to re-enable them.\n"
     ]
    },
    {
     "name": "stderr",
     "output_type": "stream",
     "text": [
      "2023-08-15 15:45:08.856751: I tensorflow/stream_executor/platform/default/dso_loader.cc:49] Successfully opened dynamic library libcudart.so.11.0\n",
      "2023-08-15 15:45:13,534 - modelscope - INFO - head has no _keys_to_ignore_on_load_missing\n",
      "2023-08-15 15:45:14,257 - modelscope - INFO - All model checkpoint weights were used when initializing ModelForTextClassification.\n",
      "\n",
      "2023-08-15 15:45:14,258 - modelscope - INFO - All the weights of ModelForTextClassification were initialized from the model checkpoint If your task is similar to the task the model of the checkpoint was trained on, you can already use ModelForTextClassification for predictions without further training.\n",
      "2023-08-15 15:45:14,266 - modelscope - INFO - The key of sentence1: sentence1, The key of sentence2: None, The key of label: label\n",
      "2023-08-15 15:45:14,268 - modelscope - INFO - The key of sentence1: text, The key of sentence2: None, The key of label: label\n"
     ]
    }
   ],
   "source": [
    "from modelscope.pipelines import pipeline\n",
    "from modelscope.utils.constant import Tasks\n",
    "\n",
    "# semantic_cls = pipeline(Tasks.text_classification, 'damo/nlp_structbert_emotion-classification_chinese-base')\n",
    "semantic_cls = pipeline(Tasks.text_classification, 'damo/nlp_structbert_emotion-classification_chinese-large', model_revision='v1.0.0')\n",
    "# semantic_cls(input='新年快乐！')"
   ]
  },
  {
   "cell_type": "code",
   "execution_count": 4,
   "id": "0fc445d2-a5ca-4dbb-b7f8-a9eb49980d2b",
   "metadata": {
    "ExecutionIndicator": {
     "show": false
    },
    "execution": {
     "iopub.execute_input": "2023-08-15T07:45:46.605253Z",
     "iopub.status.busy": "2023-08-15T07:45:46.604712Z",
     "iopub.status.idle": "2023-08-15T07:45:52.302524Z",
     "shell.execute_reply": "2023-08-15T07:45:52.301819Z",
     "shell.execute_reply.started": "2023-08-15T07:45:46.605231Z"
    },
    "tags": []
   },
   "outputs": [
    {
     "name": "stderr",
     "output_type": "stream",
     "text": [
      "/opt/conda/lib/python3.8/site-packages/transformers/modeling_utils.py:884: FutureWarning: The `device` argument is deprecated and will be removed in v5 of Transformers.\n",
      "  warnings.warn(\n"
     ]
    },
    {
     "name": "stdout",
     "output_type": "stream",
     "text": [
      "恐惧:0.000\n",
      "愤怒:0.999\n",
      "厌恶:0.000\n",
      "喜好:0.000\n",
      "悲伤:0.000\n",
      "高兴:0.000\n",
      "惊讶:0.000\n"
     ]
    }
   ],
   "source": [
    "result = semantic_cls(input='昨天吃了份大餐,饭菜很棒')\n",
    "labels = ['恐惧','愤怒','厌恶','喜好','悲伤','高兴','惊讶'] #注意, base模型中原输出的labels顺序有误,以这个为准.\n",
    "for x,y in zip(result['scores'],labels):\n",
    "    print(f\"{y}:{x:.3f}\")"
   ]
  },
  {
   "cell_type": "code",
   "execution_count": 27,
   "id": "95295a0f-4522-46aa-b3fa-7e344af602ed",
   "metadata": {
    "ExecutionIndicator": {
     "show": true
    },
    "execution": {
     "iopub.execute_input": "2023-08-15T08:02:23.615891Z",
     "iopub.status.busy": "2023-08-15T08:02:23.615534Z",
     "iopub.status.idle": "2023-08-15T08:02:23.619020Z",
     "shell.execute_reply": "2023-08-15T08:02:23.618552Z",
     "shell.execute_reply.started": "2023-08-15T08:02:23.615862Z"
    },
    "tags": []
   },
   "outputs": [],
   "source": [
    "def text7emotions(input_text):\n",
    "    result = semantic_cls(input=input_text)\n",
    "    return [f'{y}:{x:.3f}' for x,y in zip(result['scores'],result['labels'])]"
   ]
  },
  {
   "cell_type": "code",
   "execution_count": 29,
   "id": "90c131ba-d5db-4e5c-896d-ca22feb7ba4d",
   "metadata": {
    "ExecutionIndicator": {
     "show": true
    },
    "execution": {
     "iopub.execute_input": "2023-08-15T08:02:37.285947Z",
     "iopub.status.busy": "2023-08-15T08:02:37.285588Z",
     "iopub.status.idle": "2023-08-15T08:02:37.327044Z",
     "shell.execute_reply": "2023-08-15T08:02:37.326506Z",
     "shell.execute_reply.started": "2023-08-15T08:02:37.285928Z"
    },
    "tags": []
   },
   "outputs": [
    {
     "data": {
      "text/plain": [
       "['惊讶:0.034',\n",
       " '高兴:0.134',\n",
       " '悲伤:0.087',\n",
       " '喜好:0.198',\n",
       " '厌恶:0.240',\n",
       " '愤怒:0.300',\n",
       " '恐惧:0.008']"
      ]
     },
     "execution_count": 29,
     "metadata": {},
     "output_type": "execute_result"
    }
   ],
   "source": [
    "text7emotions('terrific!')"
   ]
  },
  {
   "cell_type": "code",
   "execution_count": 36,
   "id": "938ab4c1-046a-479b-8fa1-8f07619785ee",
   "metadata": {
    "ExecutionIndicator": {
     "show": true
    },
    "execution": {
     "iopub.execute_input": "2023-08-15T08:22:21.758518Z",
     "iopub.status.busy": "2023-08-15T08:22:21.758186Z",
     "iopub.status.idle": "2023-08-15T08:22:35.184582Z",
     "shell.execute_reply": "2023-08-15T08:22:35.183986Z",
     "shell.execute_reply.started": "2023-08-15T08:22:21.758499Z"
    },
    "tags": []
   },
   "outputs": [
    {
     "name": "stdout",
     "output_type": "stream",
     "text": [
      "Running on local URL:  http://127.0.0.1:7864\n",
      "Running on public URL: https://a40bb679d3134293ae.gradio.live\n",
      "\n",
      "This share link expires in 72 hours. For free permanent hosting and GPU upgrades, run `gradio deploy` from Terminal to deploy to Spaces (https://huggingface.co/spaces)\n"
     ]
    },
    {
     "data": {
      "text/html": [
       "<div><iframe src=\"https://a40bb679d3134293ae.gradio.live\" width=\"100%\" height=\"500\" allow=\"autoplay; camera; microphone; clipboard-read; clipboard-write;\" frameborder=\"0\" allowfullscreen></iframe></div>"
      ],
      "text/plain": [
       "<IPython.core.display.HTML object>"
      ]
     },
     "metadata": {},
     "output_type": "display_data"
    },
    {
     "data": {
      "text/plain": []
     },
     "execution_count": 36,
     "metadata": {},
     "output_type": "execute_result"
    },
    {
     "name": "stderr",
     "output_type": "stream",
     "text": [
      "/opt/conda/lib/python3.8/site-packages/transformers/modeling_utils.py:884: FutureWarning: The `device` argument is deprecated and will be removed in v5 of Transformers.\n",
      "  warnings.warn(\n"
     ]
    }
   ],
   "source": [
    "import gradio as gr\n",
    "\n",
    "demo = gr.Interface(fn=text7emotions, inputs=\"text\", outputs=\"text\",title='获得文字的7种情感',\n",
    "                    description='输入一段文字,或者文字列表,得出文字表达的7种情绪',\n",
    "                   examples=['什么鬼?'])\n",
    "demo.launch(share=True)"
   ]
  },
  {
   "cell_type": "code",
   "execution_count": null,
   "id": "d31b4cfa-a829-4628-816f-66e9d96df74f",
   "metadata": {},
   "outputs": [],
   "source": []
  }
 ],
 "metadata": {
  "kernelspec": {
   "display_name": "Python 3 (ipykernel)",
   "language": "python",
   "name": "python3"
  },
  "language_info": {
   "codemirror_mode": {
    "name": "ipython",
    "version": 3
   },
   "file_extension": ".py",
   "mimetype": "text/x-python",
   "name": "python",
   "nbconvert_exporter": "python",
   "pygments_lexer": "ipython3",
   "version": "3.8.16"
  }
 },
 "nbformat": 4,
 "nbformat_minor": 5
}
